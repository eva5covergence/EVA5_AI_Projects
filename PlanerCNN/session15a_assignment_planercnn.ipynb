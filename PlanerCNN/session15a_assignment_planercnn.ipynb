{
  "nbformat": 4,
  "nbformat_minor": 0,
  "metadata": {
    "colab": {
      "name": "session15a_assignment_planercnn_final.ipynb",
      "provenance": [],
      "collapsed_sections": []
    },
    "kernelspec": {
      "name": "python3",
      "display_name": "Python 3"
    },
    "accelerator": "GPU"
  },
  "cells": [
    {
      "cell_type": "markdown",
      "metadata": {
        "id": "0n6063gBpKV8"
      },
      "source": [
        "# Colab notebook or tutorial\n",
        "### [How to run PyTorch with GPU and CUDA 8.0 support on Google Colab](https://www.dlology.com/blog/how-to-run-pytorch-with-gpu-and-cuda-92-support-on-google-colab/)"
      ]
    },
    {
      "cell_type": "markdown",
      "metadata": {
        "id": "NRWVxFIGd3Rc"
      },
      "source": [
        "# New Section"
      ]
    },
    {
      "cell_type": "code",
      "metadata": {
        "id": "wY1IMUJ8qJfF",
        "outputId": "0ef533ae-60ba-4585-e2cc-c405070c4450",
        "colab": {
          "base_uri": "https://localhost:8080/"
        }
      },
      "source": [
        "!nvidia-smi"
      ],
      "execution_count": 1,
      "outputs": [
        {
          "output_type": "stream",
          "text": [
            "Sat Oct 31 11:17:30 2020       \n",
            "+-----------------------------------------------------------------------------+\n",
            "| NVIDIA-SMI 455.32.00    Driver Version: 418.67       CUDA Version: 10.1     |\n",
            "|-------------------------------+----------------------+----------------------+\n",
            "| GPU  Name        Persistence-M| Bus-Id        Disp.A | Volatile Uncorr. ECC |\n",
            "| Fan  Temp  Perf  Pwr:Usage/Cap|         Memory-Usage | GPU-Util  Compute M. |\n",
            "|                               |                      |               MIG M. |\n",
            "|===============================+======================+======================|\n",
            "|   0  Tesla T4            Off  | 00000000:00:04.0 Off |                    0 |\n",
            "| N/A   57C    P8    10W /  70W |      0MiB / 15079MiB |      0%      Default |\n",
            "|                               |                      |                 ERR! |\n",
            "+-------------------------------+----------------------+----------------------+\n",
            "                                                                               \n",
            "+-----------------------------------------------------------------------------+\n",
            "| Processes:                                                                  |\n",
            "|  GPU   GI   CI        PID   Type   Process name                  GPU Memory |\n",
            "|        ID   ID                                                   Usage      |\n",
            "|=============================================================================|\n",
            "|  No running processes found                                                 |\n",
            "+-----------------------------------------------------------------------------+\n"
          ],
          "name": "stdout"
        }
      ]
    },
    {
      "cell_type": "code",
      "metadata": {
        "id": "2Sj5m7Abk0cQ",
        "outputId": "ee6d54f5-cd48-4cdb-9be6-698750319302",
        "colab": {
          "base_uri": "https://localhost:8080/"
        }
      },
      "source": [
        "!cat /etc/*-release"
      ],
      "execution_count": 2,
      "outputs": [
        {
          "output_type": "stream",
          "text": [
            "DISTRIB_ID=Ubuntu\n",
            "DISTRIB_RELEASE=18.04\n",
            "DISTRIB_CODENAME=bionic\n",
            "DISTRIB_DESCRIPTION=\"Ubuntu 18.04.5 LTS\"\n",
            "NAME=\"Ubuntu\"\n",
            "VERSION=\"18.04.5 LTS (Bionic Beaver)\"\n",
            "ID=ubuntu\n",
            "ID_LIKE=debian\n",
            "PRETTY_NAME=\"Ubuntu 18.04.5 LTS\"\n",
            "VERSION_ID=\"18.04\"\n",
            "HOME_URL=\"https://www.ubuntu.com/\"\n",
            "SUPPORT_URL=\"https://help.ubuntu.com/\"\n",
            "BUG_REPORT_URL=\"https://bugs.launchpad.net/ubuntu/\"\n",
            "PRIVACY_POLICY_URL=\"https://www.ubuntu.com/legal/terms-and-policies/privacy-policy\"\n",
            "VERSION_CODENAME=bionic\n",
            "UBUNTU_CODENAME=bionic\n"
          ],
          "name": "stdout"
        }
      ]
    },
    {
      "cell_type": "markdown",
      "metadata": {
        "id": "_9OL94AUvpzM"
      },
      "source": [
        "## Install [Cuda 8.0\n",
        "](https://developer.nvidia.com/cuda-downloads?target_os=Linux&target_arch=x86_64&target_distro=Ubuntu&target_version=1710&target_type=deblocal)"
      ]
    },
    {
      "cell_type": "code",
      "metadata": {
        "id": "_fuF-Bx5sjY7",
        "outputId": "43ca65a4-3eef-405d-ecd9-b1241937353b",
        "colab": {
          "base_uri": "https://localhost:8080/"
        }
      },
      "source": [
        "!wget https://developer.nvidia.com/compute/cuda/8.0/Prod2/local_installers/cuda-repo-ubuntu1604-8-0-local-ga2_8.0.61-1_amd64-deb"
      ],
      "execution_count": 3,
      "outputs": [
        {
          "output_type": "stream",
          "text": [
            "--2020-10-31 11:17:35--  https://developer.nvidia.com/compute/cuda/8.0/Prod2/local_installers/cuda-repo-ubuntu1604-8-0-local-ga2_8.0.61-1_amd64-deb\n",
            "Resolving developer.nvidia.com (developer.nvidia.com)... 152.199.0.24\n",
            "Connecting to developer.nvidia.com (developer.nvidia.com)|152.199.0.24|:443... connected.\n",
            "HTTP request sent, awaiting response... 302 Found\n",
            "Location: https://developer.download.nvidia.com/compute/cuda/8.0/secure/Prod2/local_installers/cuda-repo-ubuntu1604-8-0-local-ga2_8.0.61-1_amd64.deb?fCVRgkrsiwmpUva2l9hiUDzKMv6bInDxpI3Qg82smennbiEaGa_0k3vazanNBPXnwwAlYXddlOvnTvNpwD7mBmevEMSJnsFNgWBLLv8QSYuGgOG5G5DKtXq7XdIUfk_7XuvPXakD9SnfUG6bgmMRXf9jzdL4-bS2_GIgVrpxhr4giomowiuC35Ycc_AuftTiiGVHk4Sh1-lwNAMNSMBl4Apzow [following]\n",
            "--2020-10-31 11:17:35--  https://developer.download.nvidia.com/compute/cuda/8.0/secure/Prod2/local_installers/cuda-repo-ubuntu1604-8-0-local-ga2_8.0.61-1_amd64.deb?fCVRgkrsiwmpUva2l9hiUDzKMv6bInDxpI3Qg82smennbiEaGa_0k3vazanNBPXnwwAlYXddlOvnTvNpwD7mBmevEMSJnsFNgWBLLv8QSYuGgOG5G5DKtXq7XdIUfk_7XuvPXakD9SnfUG6bgmMRXf9jzdL4-bS2_GIgVrpxhr4giomowiuC35Ycc_AuftTiiGVHk4Sh1-lwNAMNSMBl4Apzow\n",
            "Resolving developer.download.nvidia.com (developer.download.nvidia.com)... 152.195.19.142\n",
            "Connecting to developer.download.nvidia.com (developer.download.nvidia.com)|152.195.19.142|:443... connected.\n",
            "HTTP request sent, awaiting response... 200 OK\n",
            "Length: 1913589814 (1.8G) [application/x-deb]\n",
            "Saving to: ‘cuda-repo-ubuntu1604-8-0-local-ga2_8.0.61-1_amd64-deb’\n",
            "\n",
            "cuda-repo-ubuntu160 100%[===================>]   1.78G  41.0MB/s    in 14s     \n",
            "\n",
            "2020-10-31 11:17:49 (129 MB/s) - ‘cuda-repo-ubuntu1604-8-0-local-ga2_8.0.61-1_amd64-deb’ saved [1913589814/1913589814]\n",
            "\n"
          ],
          "name": "stdout"
        }
      ]
    },
    {
      "cell_type": "code",
      "metadata": {
        "id": "_MM0-uDkujuq",
        "outputId": "f219a1a3-1133-4190-abe6-90854ec49bd4",
        "colab": {
          "base_uri": "https://localhost:8080/"
        }
      },
      "source": [
        "# cd ../\n",
        "!ls"
      ],
      "execution_count": 21,
      "outputs": [
        {
          "output_type": "stream",
          "text": [
            "cuda-repo-ubuntu1604-8-0-local-ga2_8.0.61-1_amd64-deb  sample_data\n",
            "planercnn_with_adf\n"
          ],
          "name": "stdout"
        }
      ]
    },
    {
      "cell_type": "code",
      "metadata": {
        "id": "CCwhyhUsunI6",
        "outputId": "9538e6cd-b424-4cad-ab74-fb45bca2a1fa",
        "colab": {
          "base_uri": "https://localhost:8080/"
        }
      },
      "source": [
        "!dpkg -i cuda-repo-ubuntu1604-8-0-local-ga2_8.0.61-1_amd64-deb"
      ],
      "execution_count": 22,
      "outputs": [
        {
          "output_type": "stream",
          "text": [
            "(Reading database ... 153720 files and directories currently installed.)\n",
            "Preparing to unpack cuda-repo-ubuntu1604-8-0-local-ga2_8.0.61-1_amd64-deb ...\n",
            "Unpacking cuda-repo-ubuntu1604-8-0-local-ga2 (8.0.61-1) over (8.0.61-1) ...\n",
            "Setting up cuda-repo-ubuntu1604-8-0-local-ga2 (8.0.61-1) ...\n",
            "Warning: The postinst maintainerscript of the package cuda-repo-ubuntu1604-8-0-local-ga2\n",
            "Warning: seems to use apt-key (provided by apt) without depending on gnupg or gnupg2.\n",
            "Warning: This will BREAK in the future and should be fixed by the package maintainer(s).\n",
            "Note: Check first if apt-key functionality is needed at all - it probably isn't!\n",
            "Warning: apt-key should not be used in scripts (called from postinst maintainerscript of the package cuda-repo-ubuntu1604-8-0-local-ga2)\n",
            "OK\n"
          ],
          "name": "stdout"
        }
      ]
    },
    {
      "cell_type": "code",
      "metadata": {
        "id": "Sqr0_kCztKoe",
        "outputId": "8c862f41-ff9d-4fd3-8f65-1ba4d6999684",
        "colab": {
          "base_uri": "https://localhost:8080/"
        }
      },
      "source": [
        "!ls /var/"
      ],
      "execution_count": 23,
      "outputs": [
        {
          "output_type": "stream",
          "text": [
            "backups  colab\t\t\t  lib\t lock  mail  run    tmp\n",
            "cache\t cuda-repo-8-0-local-ga2  local  log   opt   spool\n"
          ],
          "name": "stdout"
        }
      ]
    },
    {
      "cell_type": "code",
      "metadata": {
        "id": "-pMYiP3fu2wV",
        "outputId": "1d34118a-0fee-4460-f447-89a28d063c94",
        "colab": {
          "base_uri": "https://localhost:8080/"
        }
      },
      "source": [
        "!ls /var/cuda-repo-8-0-local-ga2 | grep .pub"
      ],
      "execution_count": 24,
      "outputs": [
        {
          "output_type": "stream",
          "text": [
            "7fa2af80.pub\n"
          ],
          "name": "stdout"
        }
      ]
    },
    {
      "cell_type": "code",
      "metadata": {
        "id": "z8rgbF5SurNK",
        "outputId": "e8afedde-9321-4aeb-8f07-bfe9b2dbafd3",
        "colab": {
          "base_uri": "https://localhost:8080/"
        }
      },
      "source": [
        "!apt-key add /var/cuda-repo-8-0-local-ga2/7fa2af80.pub"
      ],
      "execution_count": 25,
      "outputs": [
        {
          "output_type": "stream",
          "text": [
            "OK\n"
          ],
          "name": "stdout"
        }
      ]
    },
    {
      "cell_type": "code",
      "metadata": {
        "id": "QJyNe2USu-u5",
        "outputId": "593b62ec-271e-4dcd-f256-1625213cca05",
        "colab": {
          "base_uri": "https://localhost:8080/"
        }
      },
      "source": [
        "!apt-get update"
      ],
      "execution_count": 26,
      "outputs": [
        {
          "output_type": "stream",
          "text": [
            "\r0% [Working]\r            \rGet:1 file:/var/cuda-repo-8-0-local-ga2  InRelease\n",
            "\r0% [Connecting to security.ubuntu.com] [Connecting to cloud.r-project.org] [1 I\r                                                                               \rIgn:1 file:/var/cuda-repo-8-0-local-ga2  InRelease\n",
            "\r0% [Connecting to security.ubuntu.com] [Connecting to cloud.r-project.org] [Con\r                                                                               \rGet:2 file:/var/cuda-repo-8-0-local-ga2  Release [574 B]\n",
            "\r0% [Connecting to security.ubuntu.com] [Connecting to cloud.r-project.org] [Con\r                                                                               \rGet:2 file:/var/cuda-repo-8-0-local-ga2  Release [574 B]\n",
            "\r0% [2 Release 0 B/574 B 0%] [Connecting to archive.ubuntu.com] [Connecting to s\r0% [Connecting to archive.ubuntu.com] [Connecting to security.ubuntu.com] [Conn\r0% [Release.gpg gpgv 574 B] [Connecting to archive.ubuntu.com] [Connecting to s\r                                                                               \rHit:3 http://security.ubuntu.com/ubuntu bionic-security InRelease\n",
            "\r0% [Release.gpg gpgv 574 B] [Connecting to archive.ubuntu.com (91.189.88.142)] \r                                                                               \rHit:4 https://cloud.r-project.org/bin/linux/ubuntu bionic-cran40/ InRelease\n",
            "\r0% [Release.gpg gpgv 574 B] [Connecting to archive.ubuntu.com (91.189.88.142)] \r                                                                               \rIgn:5 https://developer.download.nvidia.com/compute/cuda/repos/ubuntu1804/x86_64  InRelease\n",
            "\r0% [Release.gpg gpgv 574 B] [Waiting for headers] [Waiting for headers] [Waitin\r                                                                               \rHit:6 http://archive.ubuntu.com/ubuntu bionic InRelease\n",
            "\r                                                                               \rHit:7 http://ppa.launchpad.net/c2d4u.team/c2d4u4.0+/ubuntu bionic InRelease\n",
            "\r0% [Release.gpg gpgv 574 B] [Waiting for headers] [Connecting to ppa.launchpad.\r0% [Waiting for headers] [Connecting to ppa.launchpad.net (91.189.95.83)] [Wait\r0% [3 InRelease gpgv 88.7 kB] [Waiting for headers] [Connecting to ppa.launchpa\r                                                                               \rIgn:9 https://developer.download.nvidia.com/compute/machine-learning/repos/ubuntu1804/x86_64  InRelease\n",
            "\r0% [3 InRelease gpgv 88.7 kB] [Waiting for headers] [Connecting to ppa.launchpa\r                                                                               \rHit:10 https://developer.download.nvidia.com/compute/cuda/repos/ubuntu1804/x86_64  Release\n",
            "Hit:11 https://developer.download.nvidia.com/compute/machine-learning/repos/ubuntu1804/x86_64  Release\n",
            "Hit:12 http://archive.ubuntu.com/ubuntu bionic-updates InRelease\n",
            "Hit:13 http://ppa.launchpad.net/graphics-drivers/ppa/ubuntu bionic InRelease\n",
            "Hit:14 http://archive.ubuntu.com/ubuntu bionic-backports InRelease\n",
            "Reading package lists... Done\n"
          ],
          "name": "stdout"
        }
      ]
    },
    {
      "cell_type": "code",
      "metadata": {
        "id": "Z4_R2QZbvAwx",
        "outputId": "d4db2102-2388-42b2-a0ec-d7571b77b781",
        "colab": {
          "base_uri": "https://localhost:8080/"
        }
      },
      "source": [
        "!apt-get install cuda-8-0"
      ],
      "execution_count": 27,
      "outputs": [
        {
          "output_type": "stream",
          "text": [
            "Reading package lists... Done\n",
            "Building dependency tree       \n",
            "Reading state information... Done\n",
            "cuda-8-0 is already the newest version (8.0.61-1).\n",
            "0 upgraded, 0 newly installed, 0 to remove and 13 not upgraded.\n"
          ],
          "name": "stdout"
        }
      ]
    },
    {
      "cell_type": "markdown",
      "metadata": {
        "id": "MyEyVPQcvTyU"
      },
      "source": [
        "## Install [PyTorch](https://pytorch.org/) with Cuda 8.0 support"
      ]
    },
    {
      "cell_type": "code",
      "metadata": {
        "id": "qxAlR-u4tkMb",
        "outputId": "41803244-8d21-4cfe-f485-719054c37ebc",
        "colab": {
          "base_uri": "https://localhost:8080/"
        }
      },
      "source": [
        "!nvcc --version"
      ],
      "execution_count": 28,
      "outputs": [
        {
          "output_type": "stream",
          "text": [
            "nvcc: NVIDIA (R) Cuda compiler driver\n",
            "Copyright (c) 2005-2016 NVIDIA Corporation\n",
            "Built on Tue_Jan_10_13:22:03_CST_2017\n",
            "Cuda compilation tools, release 8.0, V8.0.61\n"
          ],
          "name": "stdout"
        }
      ]
    },
    {
      "cell_type": "code",
      "metadata": {
        "id": "ZsrvZeEhvCri",
        "outputId": "cb5b44fb-4ad6-412a-a9c4-1d16cbccf5b7",
        "colab": {
          "base_uri": "https://localhost:8080/"
        }
      },
      "source": [
        "!pip install torch==0.4.0\n",
        "#!pip install torchvision"
      ],
      "execution_count": 29,
      "outputs": [
        {
          "output_type": "stream",
          "text": [
            "Collecting torch==0.4.0\n",
            "  Using cached https://files.pythonhosted.org/packages/69/43/380514bd9663f1bf708abeb359b8b48d3fabb1c8e95bb3427a980a064c57/torch-0.4.0-cp36-cp36m-manylinux1_x86_64.whl\n",
            "\u001b[31mERROR: torchvision 0.7.0+cu101 has requirement torch==1.6.0, but you'll have torch 0.4.0 which is incompatible.\u001b[0m\n",
            "\u001b[31mERROR: fastai 1.0.61 has requirement torch>=1.0.0, but you'll have torch 0.4.0 which is incompatible.\u001b[0m\n",
            "Installing collected packages: torch\n",
            "  Found existing installation: torch 0.4.1\n",
            "    Uninstalling torch-0.4.1:\n",
            "      Successfully uninstalled torch-0.4.1\n",
            "Successfully installed torch-0.4.0\n"
          ],
          "name": "stdout"
        }
      ]
    },
    {
      "cell_type": "code",
      "metadata": {
        "id": "0A0RJsPJvG3B",
        "outputId": "7ebdefe2-fe16-4bf5-b48d-0fe7c4f7477b",
        "colab": {
          "base_uri": "https://localhost:8080/"
        }
      },
      "source": [
        "!git clone https://github.com/UTS-CAS/planercnn_with_adf.git"
      ],
      "execution_count": 30,
      "outputs": [
        {
          "output_type": "stream",
          "text": [
            "fatal: destination path 'planercnn_with_adf' already exists and is not an empty directory.\n"
          ],
          "name": "stdout"
        }
      ]
    },
    {
      "cell_type": "code",
      "metadata": {
        "id": "0fvD6bc_vGmi",
        "outputId": "435cef3f-f4f7-464a-e56d-c4534206b87f",
        "colab": {
          "base_uri": "https://localhost:8080/"
        }
      },
      "source": [
        "cd planercnn_with_adf"
      ],
      "execution_count": 31,
      "outputs": [
        {
          "output_type": "stream",
          "text": [
            "/content/planercnn_with_adf\n"
          ],
          "name": "stdout"
        }
      ]
    },
    {
      "cell_type": "code",
      "metadata": {
        "id": "ebr8WDkXvGQD",
        "outputId": "086431b1-207c-4e8e-928b-f767258941d4",
        "colab": {
          "base_uri": "https://localhost:8080/"
        }
      },
      "source": [
        "!pip install -r requirements.txt"
      ],
      "execution_count": 32,
      "outputs": [
        {
          "output_type": "stream",
          "text": [
            "Requirement already satisfied: cffi==1.11.5 in /usr/local/lib/python3.6/dist-packages (from -r requirements.txt (line 1)) (1.11.5)\n",
            "Requirement already satisfied: numpy==1.15.4 in /usr/local/lib/python3.6/dist-packages (from -r requirements.txt (line 2)) (1.15.4)\n",
            "Requirement already satisfied: opencv-python==3.4.4.19 in /usr/local/lib/python3.6/dist-packages (from -r requirements.txt (line 3)) (3.4.4.19)\n",
            "Requirement already satisfied: scikit-image==0.14.1 in /usr/local/lib/python3.6/dist-packages (from -r requirements.txt (line 4)) (0.14.1)\n",
            "Collecting torch==0.4.1\n",
            "  Using cached https://files.pythonhosted.org/packages/49/0e/e382bcf1a6ae8225f50b99cc26effa2d4cc6d66975ccf3fa9590efcbedce/torch-0.4.1-cp36-cp36m-manylinux1_x86_64.whl\n",
            "Requirement already satisfied: tqdm==4.28.1 in /usr/local/lib/python3.6/dist-packages (from -r requirements.txt (line 6)) (4.28.1)\n",
            "Requirement already satisfied: pycparser in /usr/local/lib/python3.6/dist-packages (from cffi==1.11.5->-r requirements.txt (line 1)) (2.20)\n",
            "Requirement already satisfied: six>=1.10.0 in /usr/local/lib/python3.6/dist-packages (from scikit-image==0.14.1->-r requirements.txt (line 4)) (1.15.0)\n",
            "Requirement already satisfied: pillow>=4.3.0 in /usr/local/lib/python3.6/dist-packages (from scikit-image==0.14.1->-r requirements.txt (line 4)) (7.0.0)\n",
            "Requirement already satisfied: networkx>=1.8 in /usr/local/lib/python3.6/dist-packages (from scikit-image==0.14.1->-r requirements.txt (line 4)) (2.5)\n",
            "Requirement already satisfied: cloudpickle>=0.2.1 in /usr/local/lib/python3.6/dist-packages (from scikit-image==0.14.1->-r requirements.txt (line 4)) (1.3.0)\n",
            "Requirement already satisfied: PyWavelets>=0.4.0 in /usr/local/lib/python3.6/dist-packages (from scikit-image==0.14.1->-r requirements.txt (line 4)) (1.1.1)\n",
            "Requirement already satisfied: dask[array]>=0.9.0 in /usr/local/lib/python3.6/dist-packages (from scikit-image==0.14.1->-r requirements.txt (line 4)) (2.12.0)\n",
            "Requirement already satisfied: matplotlib>=2.0.0 in /usr/local/lib/python3.6/dist-packages (from scikit-image==0.14.1->-r requirements.txt (line 4)) (3.2.2)\n",
            "Requirement already satisfied: scipy>=0.17.0 in /usr/local/lib/python3.6/dist-packages (from scikit-image==0.14.1->-r requirements.txt (line 4)) (1.4.1)\n",
            "Requirement already satisfied: decorator>=4.3.0 in /usr/local/lib/python3.6/dist-packages (from networkx>=1.8->scikit-image==0.14.1->-r requirements.txt (line 4)) (4.4.2)\n",
            "Requirement already satisfied: toolz>=0.7.3; extra == \"array\" in /usr/local/lib/python3.6/dist-packages (from dask[array]>=0.9.0->scikit-image==0.14.1->-r requirements.txt (line 4)) (0.11.1)\n",
            "Requirement already satisfied: kiwisolver>=1.0.1 in /usr/local/lib/python3.6/dist-packages (from matplotlib>=2.0.0->scikit-image==0.14.1->-r requirements.txt (line 4)) (1.2.0)\n",
            "Requirement already satisfied: cycler>=0.10 in /usr/local/lib/python3.6/dist-packages (from matplotlib>=2.0.0->scikit-image==0.14.1->-r requirements.txt (line 4)) (0.10.0)\n",
            "Requirement already satisfied: pyparsing!=2.0.4,!=2.1.2,!=2.1.6,>=2.0.1 in /usr/local/lib/python3.6/dist-packages (from matplotlib>=2.0.0->scikit-image==0.14.1->-r requirements.txt (line 4)) (2.4.7)\n",
            "Requirement already satisfied: python-dateutil>=2.1 in /usr/local/lib/python3.6/dist-packages (from matplotlib>=2.0.0->scikit-image==0.14.1->-r requirements.txt (line 4)) (2.8.1)\n",
            "\u001b[31mERROR: torchvision 0.7.0+cu101 has requirement torch==1.6.0, but you'll have torch 0.4.1 which is incompatible.\u001b[0m\n",
            "\u001b[31mERROR: fastai 1.0.61 has requirement torch>=1.0.0, but you'll have torch 0.4.1 which is incompatible.\u001b[0m\n",
            "Installing collected packages: torch\n",
            "  Found existing installation: torch 0.4.0\n",
            "    Uninstalling torch-0.4.0:\n",
            "      Successfully uninstalled torch-0.4.0\n",
            "Successfully installed torch-0.4.1\n"
          ],
          "name": "stdout"
        }
      ]
    },
    {
      "cell_type": "code",
      "metadata": {
        "id": "PahfHcJOv9HX",
        "outputId": "289468e0-9354-4a1c-c0d5-e0eab2faeb33",
        "colab": {
          "base_uri": "https://localhost:8080/"
        }
      },
      "source": [
        "!ls /usr/local/cuda-8.0"
      ],
      "execution_count": 33,
      "outputs": [
        {
          "output_type": "stream",
          "text": [
            "bin  extras   lib64\t libnvvp  nvml\tREADME\t share\ttargets  version.txt\n",
            "doc  include  libnsight  LICENSE  nvvm\tsamples  src\ttools\n"
          ],
          "name": "stdout"
        }
      ]
    },
    {
      "cell_type": "code",
      "metadata": {
        "id": "I3qSJhaavTlu"
      },
      "source": [
        "# %%writefile make.sh\n",
        "\n",
        "# #!/usr/bin/env bash\n",
        "\n",
        "# # CUDA_PATH=/usr/local/cuda/\n",
        "\n",
        "# export CUDA_PATH=/usr/local/cuda-9.2/\n",
        "# #You may also want to ad the following\n",
        "# #export C_INCLUDE_PATH=/opt/cuda/include\n",
        "\n",
        "# export CXXFLAGS=\"-std=c++11\"\n",
        "# export CFLAGS=\"-std=c99\"\n",
        "\n",
        "# # python setup.py build_ext --inplace\n",
        "# # rm -rf build\n",
        "\n",
        "# CUDA_ARCH=\"-gencode arch=compute_30,code=sm_30 \\\n",
        "#            -gencode arch=compute_35,code=sm_35 \\\n",
        "#            -gencode arch=compute_50,code=sm_50 \\\n",
        "#            -gencode arch=compute_52,code=sm_52 \\\n",
        "#            -gencode arch=compute_60,code=sm_60 \\\n",
        "#            -gencode arch=compute_61,code=sm_61 \"\n",
        "\n",
        "# # compile NMS\n",
        "# cd nms/src/cuda/\n",
        "# echo \"Compiling nms kernels by nvcc...\"\n",
        "# #nvcc -c -o nms_cuda_kernel.cu.o nms_cuda_kernel.cu -D GOOGLE_CUDA=1 -x cu -Xcompiler -fPIC $CUDA_ARCH\n",
        "# nvcc -c -o nms_kernel.cu.o nms_kernel.cu -D GOOGLE_CUDA=1 -x cu -Xcompiler -fPIC $CUDA_ARCH\n",
        "\n",
        "# cd ../../\n",
        "\n",
        "# python build.py"
      ],
      "execution_count": null,
      "outputs": []
    },
    {
      "cell_type": "code",
      "metadata": {
        "id": "Z6zRomC7Cq_N"
      },
      "source": [
        "!export CUDA_PATH=/usr/local/cuda-8.0/"
      ],
      "execution_count": 34,
      "outputs": []
    },
    {
      "cell_type": "code",
      "metadata": {
        "id": "uNhSlAClCkT_",
        "outputId": "899137ad-8c8e-4ed1-f4e1-571399ab1c30",
        "colab": {
          "base_uri": "https://localhost:8080/"
        }
      },
      "source": [
        "!nvcc --version"
      ],
      "execution_count": 35,
      "outputs": [
        {
          "output_type": "stream",
          "text": [
            "nvcc: NVIDIA (R) Cuda compiler driver\n",
            "Copyright (c) 2005-2016 NVIDIA Corporation\n",
            "Built on Tue_Jan_10_13:22:03_CST_2017\n",
            "Cuda compilation tools, release 8.0, V8.0.61\n"
          ],
          "name": "stdout"
        }
      ]
    },
    {
      "cell_type": "code",
      "metadata": {
        "id": "WWawbI27DqC5",
        "outputId": "20f21c7e-3c9d-4cb4-d416-188d9166c6ae",
        "colab": {
          "base_uri": "https://localhost:8080/"
        }
      },
      "source": [
        "!ls"
      ],
      "execution_count": 36,
      "outputs": [
        {
          "output_type": "stream",
          "text": [
            "anchors    evaluate_adf.py    models_adf      requirements.txt\n",
            "config.py  evaluate.py\t      nms\t      roialign\n",
            "contrib    evaluate_utils.py  options.py      train_planercnn.py\n",
            "data_prep  example_images     plane_utils.py  utils.py\n",
            "datasets   models\t      README.md       visualize_utils.py\n"
          ],
          "name": "stdout"
        }
      ]
    },
    {
      "cell_type": "code",
      "metadata": {
        "id": "GHizYH1IDqPE",
        "outputId": "6bbc9ecc-0c33-4aff-aeee-055d116e5ecd",
        "colab": {
          "base_uri": "https://localhost:8080/"
        }
      },
      "source": [
        "!sudo apt-get update && \\\n",
        "sudo apt-get install build-essential software-properties-common -y && \\\n",
        "sudo add-apt-repository ppa:ubuntu-toolchain-r/test -y && \\\n",
        "sudo apt-get update && \\\n",
        "sudo apt-get install gcc-5 g++-5 -y && \\\n",
        "sudo update-alternatives --install /usr/bin/gcc gcc /usr/bin/gcc-5 50 --slave /usr/bin/g++ g++ /usr/bin/g++-5 && \\\n",
        "gcc -v"
      ],
      "execution_count": 37,
      "outputs": [
        {
          "output_type": "stream",
          "text": [
            "\r0% [Working]\r            \rGet:1 file:/var/cuda-repo-8-0-local-ga2  InRelease\n",
            "\r            \rIgn:1 file:/var/cuda-repo-8-0-local-ga2  InRelease\n",
            "\r0% [Connecting to security.ubuntu.com]\r                                      \rGet:2 file:/var/cuda-repo-8-0-local-ga2  Release [574 B]\n",
            "\r0% [Connecting to security.ubuntu.com] [Connecting to cloud.r-project.org]\r                                                                          \rGet:2 file:/var/cuda-repo-8-0-local-ga2  Release [574 B]\n",
            "\r0% [Connecting to archive.ubuntu.com] [Connecting to security.ubuntu.com (91.18\r0% [Release.gpg gpgv 574 B] [Connecting to archive.ubuntu.com] [Connecting to s\r                                                                               \rHit:3 https://cloud.r-project.org/bin/linux/ubuntu bionic-cran40/ InRelease\n",
            "\r0% [Release.gpg gpgv 574 B] [Connecting to archive.ubuntu.com] [Connecting to s\r0% [Connecting to archive.ubuntu.com (91.189.88.152)] [Waiting for headers] [Co\r0% [3 InRelease gpgv 3,626 B] [Connecting to archive.ubuntu.com (91.189.88.152)\r                                                                               \rIgn:5 https://developer.download.nvidia.com/compute/cuda/repos/ubuntu1804/x86_64  InRelease\n",
            "Hit:6 http://security.ubuntu.com/ubuntu bionic-security InRelease\n",
            "Ign:7 https://developer.download.nvidia.com/compute/machine-learning/repos/ubuntu1804/x86_64  InRelease\n",
            "Hit:8 https://developer.download.nvidia.com/compute/cuda/repos/ubuntu1804/x86_64  Release\n",
            "Hit:9 https://developer.download.nvidia.com/compute/machine-learning/repos/ubuntu1804/x86_64  Release\n",
            "Hit:10 http://archive.ubuntu.com/ubuntu bionic InRelease\n",
            "Hit:11 http://ppa.launchpad.net/c2d4u.team/c2d4u4.0+/ubuntu bionic InRelease\n",
            "Hit:12 http://archive.ubuntu.com/ubuntu bionic-updates InRelease\n",
            "Hit:14 http://archive.ubuntu.com/ubuntu bionic-backports InRelease\n",
            "Hit:16 http://ppa.launchpad.net/graphics-drivers/ppa/ubuntu bionic InRelease\n",
            "Reading package lists... Done\n",
            "Reading package lists... Done\n",
            "Building dependency tree       \n",
            "Reading state information... Done\n",
            "build-essential is already the newest version (12.4ubuntu1).\n",
            "software-properties-common is already the newest version (0.96.24.32.14).\n",
            "0 upgraded, 0 newly installed, 0 to remove and 13 not upgraded.\n",
            "Get:1 file:/var/cuda-repo-8-0-local-ga2  InRelease\n",
            "Ign:1 file:/var/cuda-repo-8-0-local-ga2  InRelease\n",
            "Get:2 file:/var/cuda-repo-8-0-local-ga2  Release [574 B]\n",
            "Get:2 file:/var/cuda-repo-8-0-local-ga2  Release [574 B]\n",
            "Hit:3 http://security.ubuntu.com/ubuntu bionic-security InRelease\n",
            "Hit:4 https://cloud.r-project.org/bin/linux/ubuntu bionic-cran40/ InRelease\n",
            "Ign:6 https://developer.download.nvidia.com/compute/cuda/repos/ubuntu1804/x86_64  InRelease\n",
            "Hit:7 http://archive.ubuntu.com/ubuntu bionic InRelease\n",
            "Ign:8 https://developer.download.nvidia.com/compute/machine-learning/repos/ubuntu1804/x86_64  InRelease\n",
            "Hit:9 https://developer.download.nvidia.com/compute/cuda/repos/ubuntu1804/x86_64  Release\n",
            "Hit:10 https://developer.download.nvidia.com/compute/machine-learning/repos/ubuntu1804/x86_64  Release\n",
            "Hit:11 http://ppa.launchpad.net/c2d4u.team/c2d4u4.0+/ubuntu bionic InRelease\n",
            "Hit:12 http://archive.ubuntu.com/ubuntu bionic-updates InRelease\n",
            "Hit:13 http://archive.ubuntu.com/ubuntu bionic-backports InRelease\n",
            "Hit:14 http://ppa.launchpad.net/graphics-drivers/ppa/ubuntu bionic InRelease\n",
            "Get:17 http://ppa.launchpad.net/ubuntu-toolchain-r/test/ubuntu bionic InRelease [15.4 kB]\n",
            "Get:18 http://ppa.launchpad.net/ubuntu-toolchain-r/test/ubuntu bionic/main amd64 Packages [39.9 kB]\n",
            "Fetched 55.3 kB in 1s (45.4 kB/s)\n",
            "Reading package lists... Done\n",
            "Get:1 file:/var/cuda-repo-8-0-local-ga2  InRelease\n",
            "Ign:1 file:/var/cuda-repo-8-0-local-ga2  InRelease\n",
            "Get:2 file:/var/cuda-repo-8-0-local-ga2  Release [574 B]\n",
            "Get:2 file:/var/cuda-repo-8-0-local-ga2  Release [574 B]\n",
            "Hit:3 http://security.ubuntu.com/ubuntu bionic-security InRelease\n",
            "Hit:4 https://cloud.r-project.org/bin/linux/ubuntu bionic-cran40/ InRelease\n",
            "Ign:6 https://developer.download.nvidia.com/compute/cuda/repos/ubuntu1804/x86_64  InRelease\n",
            "Hit:7 http://ppa.launchpad.net/c2d4u.team/c2d4u4.0+/ubuntu bionic InRelease\n",
            "Hit:8 http://archive.ubuntu.com/ubuntu bionic InRelease\n",
            "Ign:9 https://developer.download.nvidia.com/compute/machine-learning/repos/ubuntu1804/x86_64  InRelease\n",
            "Hit:10 https://developer.download.nvidia.com/compute/cuda/repos/ubuntu1804/x86_64  Release\n",
            "Hit:11 https://developer.download.nvidia.com/compute/machine-learning/repos/ubuntu1804/x86_64  Release\n",
            "Hit:12 http://archive.ubuntu.com/ubuntu bionic-updates InRelease\n",
            "Hit:13 http://ppa.launchpad.net/graphics-drivers/ppa/ubuntu bionic InRelease\n",
            "Hit:14 http://archive.ubuntu.com/ubuntu bionic-backports InRelease\n",
            "Hit:15 http://ppa.launchpad.net/ubuntu-toolchain-r/test/ubuntu bionic InRelease\n",
            "Reading package lists... Done\n",
            "Reading package lists... Done\n",
            "Building dependency tree       \n",
            "Reading state information... Done\n",
            "The following additional packages will be installed:\n",
            "  cpp-5 gcc-5-base libasan2 libgcc-5-dev libisl15 libmpx0 libstdc++-5-dev\n",
            "Suggested packages:\n",
            "  gcc-5-locales g++-5-multilib gcc-5-doc libstdc++6-5-dbg gcc-5-multilib\n",
            "  libgcc1-dbg libgomp1-dbg libitm1-dbg libatomic1-dbg libasan2-dbg\n",
            "  liblsan0-dbg libtsan0-dbg libubsan0-dbg libcilkrts5-dbg libmpx0-dbg\n",
            "  libquadmath0-dbg libstdc++-5-doc\n",
            "The following NEW packages will be installed:\n",
            "  cpp-5 g++-5 gcc-5 gcc-5-base libasan2 libgcc-5-dev libisl15 libmpx0\n",
            "  libstdc++-5-dev\n",
            "0 upgraded, 9 newly installed, 0 to remove and 25 not upgraded.\n",
            "Need to get 29.1 MB of archives.\n",
            "After this operation, 100 MB of additional disk space will be used.\n",
            "Get:1 http://archive.ubuntu.com/ubuntu bionic/universe amd64 gcc-5-base amd64 5.5.0-12ubuntu1 [17.1 kB]\n",
            "Get:2 http://archive.ubuntu.com/ubuntu bionic/universe amd64 libisl15 amd64 0.18-4 [548 kB]\n",
            "Get:3 http://archive.ubuntu.com/ubuntu bionic/universe amd64 cpp-5 amd64 5.5.0-12ubuntu1 [7,785 kB]\n",
            "Get:4 http://archive.ubuntu.com/ubuntu bionic/universe amd64 libasan2 amd64 5.5.0-12ubuntu1 [264 kB]\n",
            "Get:5 http://archive.ubuntu.com/ubuntu bionic/universe amd64 libmpx0 amd64 5.5.0-12ubuntu1 [9,888 B]\n",
            "Get:6 http://archive.ubuntu.com/ubuntu bionic/universe amd64 libgcc-5-dev amd64 5.5.0-12ubuntu1 [2,224 kB]\n",
            "Get:7 http://archive.ubuntu.com/ubuntu bionic/universe amd64 gcc-5 amd64 5.5.0-12ubuntu1 [8,357 kB]\n",
            "Get:8 http://archive.ubuntu.com/ubuntu bionic/universe amd64 libstdc++-5-dev amd64 5.5.0-12ubuntu1 [1,415 kB]\n",
            "Get:9 http://archive.ubuntu.com/ubuntu bionic/universe amd64 g++-5 amd64 5.5.0-12ubuntu1 [8,450 kB]\n",
            "Fetched 29.1 MB in 2s (18.3 MB/s)\n",
            "debconf: unable to initialize frontend: Dialog\n",
            "debconf: (No usable dialog-like program is installed, so the dialog based frontend cannot be used. at /usr/share/perl5/Debconf/FrontEnd/Dialog.pm line 76, <> line 9.)\n",
            "debconf: falling back to frontend: Readline\n",
            "debconf: unable to initialize frontend: Readline\n",
            "debconf: (This frontend requires a controlling tty.)\n",
            "debconf: falling back to frontend: Teletype\n",
            "dpkg-preconfigure: unable to re-open stdin: \n",
            "Selecting previously unselected package gcc-5-base:amd64.\n",
            "(Reading database ... 153720 files and directories currently installed.)\n",
            "Preparing to unpack .../0-gcc-5-base_5.5.0-12ubuntu1_amd64.deb ...\n",
            "Unpacking gcc-5-base:amd64 (5.5.0-12ubuntu1) ...\n",
            "Selecting previously unselected package libisl15:amd64.\n",
            "Preparing to unpack .../1-libisl15_0.18-4_amd64.deb ...\n",
            "Unpacking libisl15:amd64 (0.18-4) ...\n",
            "Selecting previously unselected package cpp-5.\n",
            "Preparing to unpack .../2-cpp-5_5.5.0-12ubuntu1_amd64.deb ...\n",
            "Unpacking cpp-5 (5.5.0-12ubuntu1) ...\n",
            "Selecting previously unselected package libasan2:amd64.\n",
            "Preparing to unpack .../3-libasan2_5.5.0-12ubuntu1_amd64.deb ...\n",
            "Unpacking libasan2:amd64 (5.5.0-12ubuntu1) ...\n",
            "Selecting previously unselected package libmpx0:amd64.\n",
            "Preparing to unpack .../4-libmpx0_5.5.0-12ubuntu1_amd64.deb ...\n",
            "Unpacking libmpx0:amd64 (5.5.0-12ubuntu1) ...\n",
            "Selecting previously unselected package libgcc-5-dev:amd64.\n",
            "Preparing to unpack .../5-libgcc-5-dev_5.5.0-12ubuntu1_amd64.deb ...\n",
            "Unpacking libgcc-5-dev:amd64 (5.5.0-12ubuntu1) ...\n",
            "Selecting previously unselected package gcc-5.\n",
            "Preparing to unpack .../6-gcc-5_5.5.0-12ubuntu1_amd64.deb ...\n",
            "Unpacking gcc-5 (5.5.0-12ubuntu1) ...\n",
            "Selecting previously unselected package libstdc++-5-dev:amd64.\n",
            "Preparing to unpack .../7-libstdc++-5-dev_5.5.0-12ubuntu1_amd64.deb ...\n",
            "Unpacking libstdc++-5-dev:amd64 (5.5.0-12ubuntu1) ...\n",
            "Selecting previously unselected package g++-5.\n",
            "Preparing to unpack .../8-g++-5_5.5.0-12ubuntu1_amd64.deb ...\n",
            "Unpacking g++-5 (5.5.0-12ubuntu1) ...\n",
            "Setting up libisl15:amd64 (0.18-4) ...\n",
            "Setting up gcc-5-base:amd64 (5.5.0-12ubuntu1) ...\n",
            "Setting up libmpx0:amd64 (5.5.0-12ubuntu1) ...\n",
            "Setting up libasan2:amd64 (5.5.0-12ubuntu1) ...\n",
            "Setting up libgcc-5-dev:amd64 (5.5.0-12ubuntu1) ...\n",
            "Setting up cpp-5 (5.5.0-12ubuntu1) ...\n",
            "Setting up libstdc++-5-dev:amd64 (5.5.0-12ubuntu1) ...\n",
            "Setting up gcc-5 (5.5.0-12ubuntu1) ...\n",
            "Setting up g++-5 (5.5.0-12ubuntu1) ...\n",
            "Processing triggers for man-db (2.8.3-2ubuntu0.1) ...\n",
            "Processing triggers for libc-bin (2.27-3ubuntu1.2) ...\n",
            "/sbin/ldconfig.real: /usr/local/lib/python3.6/dist-packages/ideep4py/lib/libmkldnn.so.0 is not a symbolic link\n",
            "\n",
            "update-alternatives: using /usr/bin/gcc-5 to provide /usr/bin/gcc (gcc) in auto mode\n",
            "Using built-in specs.\n",
            "COLLECT_GCC=gcc\n",
            "COLLECT_LTO_WRAPPER=/usr/lib/gcc/x86_64-linux-gnu/5/lto-wrapper\n",
            "Target: x86_64-linux-gnu\n",
            "Configured with: ../src/configure -v --with-pkgversion='Ubuntu 5.5.0-12ubuntu1' --with-bugurl=file:///usr/share/doc/gcc-5/README.Bugs --enable-languages=c,ada,c++,go,d,fortran,objc,obj-c++ --prefix=/usr --program-suffix=-5 --enable-shared --enable-linker-build-id --libexecdir=/usr/lib --without-included-gettext --enable-threads=posix --libdir=/usr/lib --enable-nls --with-sysroot=/ --enable-clocale=gnu --enable-libstdcxx-debug --enable-libstdcxx-time=yes --with-default-libstdcxx-abi=new --enable-gnu-unique-object --disable-vtable-verify --enable-libmpx --enable-plugin --enable-default-pie --with-system-zlib --enable-objc-gc --enable-multiarch --disable-werror --with-arch-32=i686 --with-abi=m64 --with-multilib-list=m32,m64,mx32 --enable-multilib --with-tune=generic --enable-checking=release --build=x86_64-linux-gnu --host=x86_64-linux-gnu --target=x86_64-linux-gnu\n",
            "Thread model: posix\n",
            "gcc version 5.5.0 20171010 (Ubuntu 5.5.0-12ubuntu1) \n"
          ],
          "name": "stdout"
        }
      ]
    },
    {
      "cell_type": "code",
      "metadata": {
        "id": "z0E3yKq8FLSw",
        "outputId": "fdaba16c-9002-4d95-8356-3cba390183d3",
        "colab": {
          "base_uri": "https://localhost:8080/"
        }
      },
      "source": [
        "cd /content/planercnn_with_adf/"
      ],
      "execution_count": 38,
      "outputs": [
        {
          "output_type": "stream",
          "text": [
            "/content/planercnn_with_adf\n"
          ],
          "name": "stdout"
        }
      ]
    },
    {
      "cell_type": "code",
      "metadata": {
        "id": "bSHmM1dvFPkU",
        "outputId": "98848327-ebc9-403a-d689-083514e3108c",
        "colab": {
          "base_uri": "https://localhost:8080/"
        }
      },
      "source": [
        "!ls"
      ],
      "execution_count": 39,
      "outputs": [
        {
          "output_type": "stream",
          "text": [
            "anchors    evaluate_adf.py    models_adf      requirements.txt\n",
            "config.py  evaluate.py\t      nms\t      roialign\n",
            "contrib    evaluate_utils.py  options.py      train_planercnn.py\n",
            "data_prep  example_images     plane_utils.py  utils.py\n",
            "datasets   models\t      README.md       visualize_utils.py\n"
          ],
          "name": "stdout"
        }
      ]
    },
    {
      "cell_type": "code",
      "metadata": {
        "id": "ulLDzrmfFY1C",
        "outputId": "b751568c-cb00-437d-f02c-0278f4f22ea8",
        "colab": {
          "base_uri": "https://localhost:8080/"
        }
      },
      "source": [
        "cd nms/src/cuda/"
      ],
      "execution_count": 40,
      "outputs": [
        {
          "output_type": "stream",
          "text": [
            "/content/planercnn_with_adf/nms/src/cuda\n"
          ],
          "name": "stdout"
        }
      ]
    },
    {
      "cell_type": "code",
      "metadata": {
        "id": "0fvmEY29Fc-Z",
        "outputId": "c52bf340-9b13-4fe8-c22a-cdcd399c8cf2",
        "colab": {
          "base_uri": "https://localhost:8080/"
        }
      },
      "source": [
        "!gcc --version"
      ],
      "execution_count": 41,
      "outputs": [
        {
          "output_type": "stream",
          "text": [
            "gcc (Ubuntu 5.5.0-12ubuntu1) 5.5.0 20171010\n",
            "Copyright (C) 2015 Free Software Foundation, Inc.\n",
            "This is free software; see the source for copying conditions.  There is NO\n",
            "warranty; not even for MERCHANTABILITY or FITNESS FOR A PARTICULAR PURPOSE.\n",
            "\n"
          ],
          "name": "stdout"
        }
      ]
    },
    {
      "cell_type": "code",
      "metadata": {
        "id": "QJnZAuj-JFeB"
      },
      "source": [
        "# !sudo dpkg --configure -a # run it in case below cmd fails"
      ],
      "execution_count": 42,
      "outputs": []
    },
    {
      "cell_type": "code",
      "metadata": {
        "id": "LovTfFY3Fgxe",
        "outputId": "2e9208a4-5b5f-434b-d4ef-e66f6553e327",
        "colab": {
          "base_uri": "https://localhost:8080/"
        }
      },
      "source": [
        "!sudo apt-get install gcc-5 g++-5 g++-5-multilib gfortran-5"
      ],
      "execution_count": 43,
      "outputs": [
        {
          "output_type": "stream",
          "text": [
            "Reading package lists... Done\n",
            "Building dependency tree       \n",
            "Reading state information... Done\n",
            "g++-5 is already the newest version (5.5.0-12ubuntu1).\n",
            "gcc-5 is already the newest version (5.5.0-12ubuntu1).\n",
            "The following additional packages will be installed:\n",
            "  gcc-10-base gcc-5-multilib gcc-6-base gcc-7-multilib gcc-multilib lib32asan2\n",
            "  lib32asan4 lib32atomic1 lib32cilkrts5 lib32gcc-5-dev lib32gcc-7-dev\n",
            "  lib32gomp1 lib32itm1 lib32mpx0 lib32mpx2 lib32quadmath0 lib32stdc++-5-dev\n",
            "  lib32ubsan0 libc6-dev-i386 libc6-dev-x32 libc6-x32 libgfortran-5-dev\n",
            "  libgfortran3 libx32asan2 libx32asan4 libx32atomic1 libx32cilkrts5\n",
            "  libx32gcc-5-dev libx32gcc-7-dev libx32gcc-s1 libx32gcc1 libx32gomp1\n",
            "  libx32itm1 libx32quadmath0 libx32stdc++-5-dev libx32stdc++6 libx32ubsan0\n",
            "Suggested packages:\n",
            "  lib32stdc++6-5-dbg libx32stdc++6-5-dbg gfortran-5-multilib gfortran-5-doc\n",
            "  libgfortran3-dbg\n",
            "The following NEW packages will be installed:\n",
            "  g++-5-multilib gcc-10-base gcc-5-multilib gcc-6-base gcc-7-multilib\n",
            "  gcc-multilib gfortran-5 lib32asan2 lib32asan4 lib32atomic1 lib32cilkrts5\n",
            "  lib32gcc-5-dev lib32gcc-7-dev lib32gomp1 lib32itm1 lib32mpx0 lib32mpx2\n",
            "  lib32quadmath0 lib32stdc++-5-dev lib32ubsan0 libc6-dev-i386 libc6-dev-x32\n",
            "  libc6-x32 libgfortran-5-dev libgfortran3 libx32asan2 libx32asan4\n",
            "  libx32atomic1 libx32cilkrts5 libx32gcc-5-dev libx32gcc-7-dev libx32gcc-s1\n",
            "  libx32gcc1 libx32gomp1 libx32itm1 libx32quadmath0 libx32stdc++-5-dev\n",
            "  libx32stdc++6 libx32ubsan0\n",
            "0 upgraded, 39 newly installed, 0 to remove and 25 not upgraded.\n",
            "Need to get 27.7 MB of archives.\n",
            "After this operation, 123 MB of additional disk space will be used.\n",
            "Get:1 http://ppa.launchpad.net/ubuntu-toolchain-r/test/ubuntu bionic/main amd64 gcc-10-base amd64 10.1.0-2ubuntu1~18.04 [20.1 kB]\n",
            "Get:2 http://archive.ubuntu.com/ubuntu bionic-updates/main amd64 libc6-dev-i386 amd64 2.27-3ubuntu1.2 [1,817 kB]\n",
            "Get:3 http://ppa.launchpad.net/ubuntu-toolchain-r/test/ubuntu bionic/main amd64 libx32gcc-s1 amd64 10.1.0-2ubuntu1~18.04 [41.2 kB]\n",
            "Get:4 http://ppa.launchpad.net/ubuntu-toolchain-r/test/ubuntu bionic/main amd64 libx32gcc1 amd64 1:10.1.0-2ubuntu1~18.04 [980 B]\n",
            "Get:5 http://archive.ubuntu.com/ubuntu bionic-updates/main amd64 libc6-x32 amd64 2.27-3ubuntu1.2 [2,847 kB]\n",
            "Get:6 http://ppa.launchpad.net/ubuntu-toolchain-r/test/ubuntu bionic/main amd64 lib32gomp1 amd64 10.1.0-2ubuntu1~18.04 [109 kB]\n",
            "Get:7 http://archive.ubuntu.com/ubuntu bionic-updates/main amd64 libc6-dev-x32 amd64 2.27-3ubuntu1.2 [2,018 kB]\n",
            "Get:8 http://archive.ubuntu.com/ubuntu bionic/universe amd64 lib32asan2 amd64 5.5.0-12ubuntu1 [260 kB]\n",
            "Get:9 http://archive.ubuntu.com/ubuntu bionic/universe amd64 libx32asan2 amd64 5.5.0-12ubuntu1 [252 kB]\n",
            "Get:10 http://archive.ubuntu.com/ubuntu bionic-updates/main amd64 lib32ubsan0 amd64 7.5.0-3ubuntu1~18.04 [140 kB]\n",
            "Get:11 http://archive.ubuntu.com/ubuntu bionic-updates/main amd64 libx32ubsan0 amd64 7.5.0-3ubuntu1~18.04 [127 kB]\n",
            "Get:12 http://archive.ubuntu.com/ubuntu bionic-updates/main amd64 lib32cilkrts5 amd64 7.5.0-3ubuntu1~18.04 [47.2 kB]\n",
            "Get:13 http://archive.ubuntu.com/ubuntu bionic-updates/main amd64 libx32cilkrts5 amd64 7.5.0-3ubuntu1~18.04 [43.0 kB]\n",
            "Get:14 http://archive.ubuntu.com/ubuntu bionic/universe amd64 lib32mpx0 amd64 5.5.0-12ubuntu1 [11.2 kB]\n",
            "Get:15 http://archive.ubuntu.com/ubuntu bionic/universe amd64 lib32gcc-5-dev amd64 5.5.0-12ubuntu1 [2,077 kB]\n",
            "Get:16 http://archive.ubuntu.com/ubuntu bionic/universe amd64 libx32gcc-5-dev amd64 5.5.0-12ubuntu1 [1,870 kB]\n",
            "Get:17 http://archive.ubuntu.com/ubuntu bionic/universe amd64 gcc-5-multilib amd64 5.5.0-12ubuntu1 [1,040 B]\n",
            "Get:18 http://archive.ubuntu.com/ubuntu bionic/universe amd64 lib32stdc++-5-dev amd64 5.5.0-12ubuntu1 [640 kB]\n",
            "Get:19 http://archive.ubuntu.com/ubuntu bionic/universe amd64 libx32stdc++-5-dev amd64 5.5.0-12ubuntu1 [609 kB]\n",
            "Get:20 http://archive.ubuntu.com/ubuntu bionic/universe amd64 g++-5-multilib amd64 5.5.0-12ubuntu1 [1,064 B]\n",
            "Get:21 http://archive.ubuntu.com/ubuntu bionic-updates/universe amd64 gcc-6-base amd64 6.5.0-2ubuntu1~18.04 [16.7 kB]\n",
            "Get:22 http://archive.ubuntu.com/ubuntu bionic-updates/main amd64 lib32asan4 amd64 7.5.0-3ubuntu1~18.04 [362 kB]\n",
            "Get:23 http://archive.ubuntu.com/ubuntu bionic-updates/main amd64 libx32asan4 amd64 7.5.0-3ubuntu1~18.04 [351 kB]\n",
            "Get:24 http://archive.ubuntu.com/ubuntu bionic-updates/main amd64 lib32mpx2 amd64 8.4.0-1ubuntu1~18.04 [12.9 kB]\n",
            "Get:25 http://archive.ubuntu.com/ubuntu bionic-updates/main amd64 lib32gcc-7-dev amd64 7.5.0-3ubuntu1~18.04 [2,211 kB]\n",
            "Get:26 http://archive.ubuntu.com/ubuntu bionic-updates/main amd64 libx32gcc-7-dev amd64 7.5.0-3ubuntu1~18.04 [1,999 kB]\n",
            "Get:27 http://ppa.launchpad.net/ubuntu-toolchain-r/test/ubuntu bionic/main amd64 libx32gomp1 amd64 10.1.0-2ubuntu1~18.04 [102 kB]\n",
            "Get:28 http://archive.ubuntu.com/ubuntu bionic-updates/main amd64 gcc-7-multilib amd64 7.5.0-3ubuntu1~18.04 [1,048 B]\n",
            "Get:29 http://archive.ubuntu.com/ubuntu bionic-updates/main amd64 gcc-multilib amd64 4:7.4.0-1ubuntu2.3 [1,428 B]\n",
            "Get:30 http://archive.ubuntu.com/ubuntu bionic-updates/universe amd64 libgfortran3 amd64 6.5.0-2ubuntu1~18.04 [270 kB]\n",
            "Get:31 http://archive.ubuntu.com/ubuntu bionic/universe amd64 libgfortran-5-dev amd64 5.5.0-12ubuntu1 [296 kB]\n",
            "Get:32 http://archive.ubuntu.com/ubuntu bionic/universe amd64 gfortran-5 amd64 5.5.0-12ubuntu1 [8,166 kB]\n",
            "Get:33 http://ppa.launchpad.net/ubuntu-toolchain-r/test/ubuntu bionic/main amd64 lib32itm1 amd64 10.1.0-2ubuntu1~18.04 [28.1 kB]\n",
            "Get:34 http://ppa.launchpad.net/ubuntu-toolchain-r/test/ubuntu bionic/main amd64 libx32itm1 amd64 10.1.0-2ubuntu1~18.04 [26.4 kB]\n",
            "Get:35 http://ppa.launchpad.net/ubuntu-toolchain-r/test/ubuntu bionic/main amd64 lib32atomic1 amd64 10.1.0-2ubuntu1~18.04 [8,748 B]\n",
            "Get:36 http://ppa.launchpad.net/ubuntu-toolchain-r/test/ubuntu bionic/main amd64 libx32atomic1 amd64 10.1.0-2ubuntu1~18.04 [9,140 B]\n",
            "Get:37 http://ppa.launchpad.net/ubuntu-toolchain-r/test/ubuntu bionic/main amd64 libx32stdc++6 amd64 10.1.0-2ubuntu1~18.04 [483 kB]\n",
            "Get:38 http://ppa.launchpad.net/ubuntu-toolchain-r/test/ubuntu bionic/main amd64 lib32quadmath0 amd64 10.1.0-2ubuntu1~18.04 [230 kB]\n",
            "Get:39 http://ppa.launchpad.net/ubuntu-toolchain-r/test/ubuntu bionic/main amd64 libx32quadmath0 amd64 10.1.0-2ubuntu1~18.04 [148 kB]\n",
            "Fetched 27.7 MB in 4s (7,316 kB/s)\n",
            "debconf: unable to initialize frontend: Dialog\n",
            "debconf: (No usable dialog-like program is installed, so the dialog based frontend cannot be used. at /usr/share/perl5/Debconf/FrontEnd/Dialog.pm line 76, <> line 39.)\n",
            "debconf: falling back to frontend: Readline\n",
            "debconf: unable to initialize frontend: Readline\n",
            "debconf: (This frontend requires a controlling tty.)\n",
            "debconf: falling back to frontend: Teletype\n",
            "dpkg-preconfigure: unable to re-open stdin: \n",
            "Selecting previously unselected package gcc-10-base:amd64.\n",
            "(Reading database ... 154720 files and directories currently installed.)\n",
            "Preparing to unpack .../00-gcc-10-base_10.1.0-2ubuntu1~18.04_amd64.deb ...\n",
            "Unpacking gcc-10-base:amd64 (10.1.0-2ubuntu1~18.04) ...\n",
            "Selecting previously unselected package libc6-dev-i386.\n",
            "Preparing to unpack .../01-libc6-dev-i386_2.27-3ubuntu1.2_amd64.deb ...\n",
            "Unpacking libc6-dev-i386 (2.27-3ubuntu1.2) ...\n",
            "Selecting previously unselected package libc6-x32.\n",
            "Preparing to unpack .../02-libc6-x32_2.27-3ubuntu1.2_amd64.deb ...\n",
            "Unpacking libc6-x32 (2.27-3ubuntu1.2) ...\n",
            "Selecting previously unselected package libc6-dev-x32.\n",
            "Preparing to unpack .../03-libc6-dev-x32_2.27-3ubuntu1.2_amd64.deb ...\n",
            "Unpacking libc6-dev-x32 (2.27-3ubuntu1.2) ...\n",
            "Selecting previously unselected package libx32gcc-s1.\n",
            "Preparing to unpack .../04-libx32gcc-s1_10.1.0-2ubuntu1~18.04_amd64.deb ...\n",
            "Unpacking libx32gcc-s1 (10.1.0-2ubuntu1~18.04) ...\n",
            "Selecting previously unselected package libx32gcc1.\n",
            "Preparing to unpack .../05-libx32gcc1_1%3a10.1.0-2ubuntu1~18.04_amd64.deb ...\n",
            "Unpacking libx32gcc1 (1:10.1.0-2ubuntu1~18.04) ...\n",
            "Selecting previously unselected package lib32gomp1.\n",
            "Preparing to unpack .../06-lib32gomp1_10.1.0-2ubuntu1~18.04_amd64.deb ...\n",
            "Unpacking lib32gomp1 (10.1.0-2ubuntu1~18.04) ...\n",
            "Selecting previously unselected package libx32gomp1.\n",
            "Preparing to unpack .../07-libx32gomp1_10.1.0-2ubuntu1~18.04_amd64.deb ...\n",
            "Unpacking libx32gomp1 (10.1.0-2ubuntu1~18.04) ...\n",
            "Selecting previously unselected package lib32itm1.\n",
            "Preparing to unpack .../08-lib32itm1_10.1.0-2ubuntu1~18.04_amd64.deb ...\n",
            "Unpacking lib32itm1 (10.1.0-2ubuntu1~18.04) ...\n",
            "Selecting previously unselected package libx32itm1.\n",
            "Preparing to unpack .../09-libx32itm1_10.1.0-2ubuntu1~18.04_amd64.deb ...\n",
            "Unpacking libx32itm1 (10.1.0-2ubuntu1~18.04) ...\n",
            "Selecting previously unselected package lib32atomic1.\n",
            "Preparing to unpack .../10-lib32atomic1_10.1.0-2ubuntu1~18.04_amd64.deb ...\n",
            "Unpacking lib32atomic1 (10.1.0-2ubuntu1~18.04) ...\n",
            "Selecting previously unselected package libx32atomic1.\n",
            "Preparing to unpack .../11-libx32atomic1_10.1.0-2ubuntu1~18.04_amd64.deb ...\n",
            "Unpacking libx32atomic1 (10.1.0-2ubuntu1~18.04) ...\n",
            "Selecting previously unselected package lib32asan2.\n",
            "Preparing to unpack .../12-lib32asan2_5.5.0-12ubuntu1_amd64.deb ...\n",
            "Unpacking lib32asan2 (5.5.0-12ubuntu1) ...\n",
            "Selecting previously unselected package libx32asan2.\n",
            "Preparing to unpack .../13-libx32asan2_5.5.0-12ubuntu1_amd64.deb ...\n",
            "Unpacking libx32asan2 (5.5.0-12ubuntu1) ...\n",
            "Selecting previously unselected package lib32ubsan0.\n",
            "Preparing to unpack .../14-lib32ubsan0_7.5.0-3ubuntu1~18.04_amd64.deb ...\n",
            "Unpacking lib32ubsan0 (7.5.0-3ubuntu1~18.04) ...\n",
            "Selecting previously unselected package libx32stdc++6.\n",
            "Preparing to unpack .../15-libx32stdc++6_10.1.0-2ubuntu1~18.04_amd64.deb ...\n",
            "Unpacking libx32stdc++6 (10.1.0-2ubuntu1~18.04) ...\n",
            "Selecting previously unselected package libx32ubsan0.\n",
            "Preparing to unpack .../16-libx32ubsan0_7.5.0-3ubuntu1~18.04_amd64.deb ...\n",
            "Unpacking libx32ubsan0 (7.5.0-3ubuntu1~18.04) ...\n",
            "Selecting previously unselected package lib32cilkrts5.\n",
            "Preparing to unpack .../17-lib32cilkrts5_7.5.0-3ubuntu1~18.04_amd64.deb ...\n",
            "Unpacking lib32cilkrts5 (7.5.0-3ubuntu1~18.04) ...\n",
            "Selecting previously unselected package libx32cilkrts5.\n",
            "Preparing to unpack .../18-libx32cilkrts5_7.5.0-3ubuntu1~18.04_amd64.deb ...\n",
            "Unpacking libx32cilkrts5 (7.5.0-3ubuntu1~18.04) ...\n",
            "Selecting previously unselected package lib32mpx0.\n",
            "Preparing to unpack .../19-lib32mpx0_5.5.0-12ubuntu1_amd64.deb ...\n",
            "Unpacking lib32mpx0 (5.5.0-12ubuntu1) ...\n",
            "Selecting previously unselected package lib32quadmath0.\n",
            "Preparing to unpack .../20-lib32quadmath0_10.1.0-2ubuntu1~18.04_amd64.deb ...\n",
            "Unpacking lib32quadmath0 (10.1.0-2ubuntu1~18.04) ...\n",
            "Selecting previously unselected package libx32quadmath0.\n",
            "Preparing to unpack .../21-libx32quadmath0_10.1.0-2ubuntu1~18.04_amd64.deb ...\n",
            "Unpacking libx32quadmath0 (10.1.0-2ubuntu1~18.04) ...\n",
            "Selecting previously unselected package lib32gcc-5-dev.\n",
            "Preparing to unpack .../22-lib32gcc-5-dev_5.5.0-12ubuntu1_amd64.deb ...\n",
            "Unpacking lib32gcc-5-dev (5.5.0-12ubuntu1) ...\n",
            "Selecting previously unselected package libx32gcc-5-dev.\n",
            "Preparing to unpack .../23-libx32gcc-5-dev_5.5.0-12ubuntu1_amd64.deb ...\n",
            "Unpacking libx32gcc-5-dev (5.5.0-12ubuntu1) ...\n",
            "Selecting previously unselected package gcc-5-multilib.\n",
            "Preparing to unpack .../24-gcc-5-multilib_5.5.0-12ubuntu1_amd64.deb ...\n",
            "Unpacking gcc-5-multilib (5.5.0-12ubuntu1) ...\n",
            "Selecting previously unselected package lib32stdc++-5-dev.\n",
            "Preparing to unpack .../25-lib32stdc++-5-dev_5.5.0-12ubuntu1_amd64.deb ...\n",
            "Unpacking lib32stdc++-5-dev (5.5.0-12ubuntu1) ...\n",
            "Selecting previously unselected package libx32stdc++-5-dev.\n",
            "Preparing to unpack .../26-libx32stdc++-5-dev_5.5.0-12ubuntu1_amd64.deb ...\n",
            "Unpacking libx32stdc++-5-dev (5.5.0-12ubuntu1) ...\n",
            "Selecting previously unselected package g++-5-multilib.\n",
            "Preparing to unpack .../27-g++-5-multilib_5.5.0-12ubuntu1_amd64.deb ...\n",
            "Unpacking g++-5-multilib (5.5.0-12ubuntu1) ...\n",
            "Selecting previously unselected package gcc-6-base:amd64.\n",
            "Preparing to unpack .../28-gcc-6-base_6.5.0-2ubuntu1~18.04_amd64.deb ...\n",
            "Unpacking gcc-6-base:amd64 (6.5.0-2ubuntu1~18.04) ...\n",
            "Selecting previously unselected package lib32asan4.\n",
            "Preparing to unpack .../29-lib32asan4_7.5.0-3ubuntu1~18.04_amd64.deb ...\n",
            "Unpacking lib32asan4 (7.5.0-3ubuntu1~18.04) ...\n",
            "Selecting previously unselected package libx32asan4.\n",
            "Preparing to unpack .../30-libx32asan4_7.5.0-3ubuntu1~18.04_amd64.deb ...\n",
            "Unpacking libx32asan4 (7.5.0-3ubuntu1~18.04) ...\n",
            "Selecting previously unselected package lib32mpx2.\n",
            "Preparing to unpack .../31-lib32mpx2_8.4.0-1ubuntu1~18.04_amd64.deb ...\n",
            "Unpacking lib32mpx2 (8.4.0-1ubuntu1~18.04) ...\n",
            "Selecting previously unselected package lib32gcc-7-dev.\n",
            "Preparing to unpack .../32-lib32gcc-7-dev_7.5.0-3ubuntu1~18.04_amd64.deb ...\n",
            "Unpacking lib32gcc-7-dev (7.5.0-3ubuntu1~18.04) ...\n",
            "Selecting previously unselected package libx32gcc-7-dev.\n",
            "Preparing to unpack .../33-libx32gcc-7-dev_7.5.0-3ubuntu1~18.04_amd64.deb ...\n",
            "Unpacking libx32gcc-7-dev (7.5.0-3ubuntu1~18.04) ...\n",
            "Selecting previously unselected package gcc-7-multilib.\n",
            "Preparing to unpack .../34-gcc-7-multilib_7.5.0-3ubuntu1~18.04_amd64.deb ...\n",
            "Unpacking gcc-7-multilib (7.5.0-3ubuntu1~18.04) ...\n",
            "Selecting previously unselected package gcc-multilib.\n",
            "Preparing to unpack .../35-gcc-multilib_4%3a7.4.0-1ubuntu2.3_amd64.deb ...\n",
            "Unpacking gcc-multilib (4:7.4.0-1ubuntu2.3) ...\n",
            "Selecting previously unselected package libgfortran3:amd64.\n",
            "Preparing to unpack .../36-libgfortran3_6.5.0-2ubuntu1~18.04_amd64.deb ...\n",
            "Unpacking libgfortran3:amd64 (6.5.0-2ubuntu1~18.04) ...\n",
            "Selecting previously unselected package libgfortran-5-dev:amd64.\n",
            "Preparing to unpack .../37-libgfortran-5-dev_5.5.0-12ubuntu1_amd64.deb ...\n",
            "Unpacking libgfortran-5-dev:amd64 (5.5.0-12ubuntu1) ...\n",
            "Selecting previously unselected package gfortran-5.\n",
            "Preparing to unpack .../38-gfortran-5_5.5.0-12ubuntu1_amd64.deb ...\n",
            "Unpacking gfortran-5 (5.5.0-12ubuntu1) ...\n",
            "Setting up libc6-x32 (2.27-3ubuntu1.2) ...\n",
            "Setting up lib32asan4 (7.5.0-3ubuntu1~18.04) ...\n",
            "Setting up lib32mpx2 (8.4.0-1ubuntu1~18.04) ...\n",
            "Setting up gcc-6-base:amd64 (6.5.0-2ubuntu1~18.04) ...\n",
            "Setting up gcc-10-base:amd64 (10.1.0-2ubuntu1~18.04) ...\n",
            "Setting up libx32gomp1 (10.1.0-2ubuntu1~18.04) ...\n",
            "Setting up libx32itm1 (10.1.0-2ubuntu1~18.04) ...\n",
            "Setting up lib32mpx0 (5.5.0-12ubuntu1) ...\n",
            "Setting up libx32gcc-s1 (10.1.0-2ubuntu1~18.04) ...\n",
            "Setting up lib32ubsan0 (7.5.0-3ubuntu1~18.04) ...\n",
            "Setting up lib32quadmath0 (10.1.0-2ubuntu1~18.04) ...\n",
            "Setting up lib32cilkrts5 (7.5.0-3ubuntu1~18.04) ...\n",
            "Setting up libc6-dev-i386 (2.27-3ubuntu1.2) ...\n",
            "Setting up libc6-dev-x32 (2.27-3ubuntu1.2) ...\n",
            "Setting up lib32asan2 (5.5.0-12ubuntu1) ...\n",
            "Setting up lib32itm1 (10.1.0-2ubuntu1~18.04) ...\n",
            "Setting up libx32quadmath0 (10.1.0-2ubuntu1~18.04) ...\n",
            "Setting up libx32gcc1 (1:10.1.0-2ubuntu1~18.04) ...\n",
            "Setting up lib32gomp1 (10.1.0-2ubuntu1~18.04) ...\n",
            "Setting up libgfortran3:amd64 (6.5.0-2ubuntu1~18.04) ...\n",
            "Setting up libx32stdc++6 (10.1.0-2ubuntu1~18.04) ...\n",
            "Setting up lib32atomic1 (10.1.0-2ubuntu1~18.04) ...\n",
            "Setting up libx32atomic1 (10.1.0-2ubuntu1~18.04) ...\n",
            "Setting up libgfortran-5-dev:amd64 (5.5.0-12ubuntu1) ...\n",
            "Setting up libx32asan2 (5.5.0-12ubuntu1) ...\n",
            "Setting up libx32asan4 (7.5.0-3ubuntu1~18.04) ...\n",
            "Setting up libx32cilkrts5 (7.5.0-3ubuntu1~18.04) ...\n",
            "Setting up libx32ubsan0 (7.5.0-3ubuntu1~18.04) ...\n",
            "Setting up gfortran-5 (5.5.0-12ubuntu1) ...\n",
            "Setting up libx32gcc-7-dev (7.5.0-3ubuntu1~18.04) ...\n",
            "Setting up lib32gcc-7-dev (7.5.0-3ubuntu1~18.04) ...\n",
            "Setting up lib32gcc-5-dev (5.5.0-12ubuntu1) ...\n",
            "Setting up libx32gcc-5-dev (5.5.0-12ubuntu1) ...\n",
            "Setting up gcc-7-multilib (7.5.0-3ubuntu1~18.04) ...\n",
            "Setting up lib32stdc++-5-dev (5.5.0-12ubuntu1) ...\n",
            "Setting up libx32stdc++-5-dev (5.5.0-12ubuntu1) ...\n",
            "Setting up gcc-5-multilib (5.5.0-12ubuntu1) ...\n",
            "Setting up gcc-multilib (4:7.4.0-1ubuntu2.3) ...\n",
            "Setting up g++-5-multilib (5.5.0-12ubuntu1) ...\n",
            "Processing triggers for man-db (2.8.3-2ubuntu0.1) ...\n",
            "Processing triggers for libc-bin (2.27-3ubuntu1.2) ...\n",
            "/sbin/ldconfig.real: /usr/local/lib/python3.6/dist-packages/ideep4py/lib/libmkldnn.so.0 is not a symbolic link\n",
            "\n"
          ],
          "name": "stdout"
        }
      ]
    },
    {
      "cell_type": "code",
      "metadata": {
        "id": "2X3lR73QGg-X"
      },
      "source": [
        "!sudo update-alternatives --install /usr/bin/gcc gcc /usr/bin/gcc-5 50 --slave /usr/bin/g++ g++ /usr/bin/g++-5"
      ],
      "execution_count": 44,
      "outputs": []
    },
    {
      "cell_type": "code",
      "metadata": {
        "id": "rNPXsAS8GhMF",
        "outputId": "01041cd7-4d0f-484a-a925-07bee8f22f43",
        "colab": {
          "base_uri": "https://localhost:8080/"
        }
      },
      "source": [
        "!sudo update-alternatives --config gcc"
      ],
      "execution_count": 45,
      "outputs": [
        {
          "output_type": "stream",
          "text": [
            "There is only one alternative in link group gcc (providing /usr/bin/gcc): /usr/bin/gcc-5\n",
            "Nothing to configure.\n"
          ],
          "name": "stdout"
        }
      ]
    },
    {
      "cell_type": "code",
      "metadata": {
        "id": "ybVgFQjuG9gD",
        "outputId": "011388a7-215f-4698-ebe8-6dacb80d426d",
        "colab": {
          "base_uri": "https://localhost:8080/"
        }
      },
      "source": [
        "!gcc --version"
      ],
      "execution_count": 46,
      "outputs": [
        {
          "output_type": "stream",
          "text": [
            "gcc (Ubuntu 5.5.0-12ubuntu1) 5.5.0 20171010\n",
            "Copyright (C) 2015 Free Software Foundation, Inc.\n",
            "This is free software; see the source for copying conditions.  There is NO\n",
            "warranty; not even for MERCHANTABILITY or FITNESS FOR A PARTICULAR PURPOSE.\n",
            "\n"
          ],
          "name": "stdout"
        }
      ]
    },
    {
      "cell_type": "code",
      "metadata": {
        "id": "H0OHUIhvzNpN"
      },
      "source": [
        "!nvcc -c -o nms_kernel.cu.o nms_kernel.cu -x cu -Xcompiler -fPIC -arch=sm_60"
      ],
      "execution_count": 47,
      "outputs": []
    },
    {
      "cell_type": "code",
      "metadata": {
        "id": "rict1iswG9RW",
        "outputId": "4a2ca133-da32-4525-8148-40cc07acb87b",
        "colab": {
          "base_uri": "https://localhost:8080/"
        }
      },
      "source": [
        "cd ../../"
      ],
      "execution_count": 48,
      "outputs": [
        {
          "output_type": "stream",
          "text": [
            "/content/planercnn_with_adf/nms\n"
          ],
          "name": "stdout"
        }
      ]
    },
    {
      "cell_type": "code",
      "metadata": {
        "id": "K2wdlyxDHVqu",
        "outputId": "19a466f6-ddc7-4059-8579-3d9f7568bc18",
        "colab": {
          "base_uri": "https://localhost:8080/"
        }
      },
      "source": [
        "!python build.py"
      ],
      "execution_count": 49,
      "outputs": [
        {
          "output_type": "stream",
          "text": [
            "Including CUDA code.\n",
            "/content/planercnn_with_adf/nms\n",
            "generating /tmp/tmpremmjwvf/_nms.c\n",
            "setting the current directory to '/tmp/tmpremmjwvf'\n",
            "running build_ext\n",
            "building '_nms' extension\n",
            "creating content\n",
            "creating content/planercnn_with_adf\n",
            "creating content/planercnn_with_adf/nms\n",
            "creating content/planercnn_with_adf/nms/src\n",
            "x86_64-linux-gnu-gcc -pthread -DNDEBUG -g -fwrapv -O2 -Wall -g -fstack-protector-strong -Wformat -Werror=format-security -Wdate-time -D_FORTIFY_SOURCE=2 -fPIC -DWITH_CUDA -I/usr/local/lib/python3.6/dist-packages/torch/utils/ffi/../../lib/include -I/usr/local/lib/python3.6/dist-packages/torch/utils/ffi/../../lib/include/TH -I/usr/local/lib/python3.6/dist-packages/torch/utils/ffi/../../lib/include/THC -I/usr/local/cuda/include -I/usr/include/python3.6m -c _nms.c -o ./_nms.o -std=c99\n",
            "x86_64-linux-gnu-gcc -pthread -DNDEBUG -g -fwrapv -O2 -Wall -g -fstack-protector-strong -Wformat -Werror=format-security -Wdate-time -D_FORTIFY_SOURCE=2 -fPIC -DWITH_CUDA -I/usr/local/lib/python3.6/dist-packages/torch/utils/ffi/../../lib/include -I/usr/local/lib/python3.6/dist-packages/torch/utils/ffi/../../lib/include/TH -I/usr/local/lib/python3.6/dist-packages/torch/utils/ffi/../../lib/include/THC -I/usr/local/cuda/include -I/usr/include/python3.6m -c /content/planercnn_with_adf/nms/src/nms.c -o ./content/planercnn_with_adf/nms/src/nms.o -std=c99\n",
            "x86_64-linux-gnu-gcc -pthread -DNDEBUG -g -fwrapv -O2 -Wall -g -fstack-protector-strong -Wformat -Werror=format-security -Wdate-time -D_FORTIFY_SOURCE=2 -fPIC -DWITH_CUDA -I/usr/local/lib/python3.6/dist-packages/torch/utils/ffi/../../lib/include -I/usr/local/lib/python3.6/dist-packages/torch/utils/ffi/../../lib/include/TH -I/usr/local/lib/python3.6/dist-packages/torch/utils/ffi/../../lib/include/THC -I/usr/local/cuda/include -I/usr/include/python3.6m -c /content/planercnn_with_adf/nms/src/nms_cuda.c -o ./content/planercnn_with_adf/nms/src/nms_cuda.o -std=c99\n",
            "\u001b[01m\u001b[K/content/planercnn_with_adf/nms/src/nms_cuda.c:\u001b[m\u001b[K In function ‘\u001b[01m\u001b[Kgpu_nms\u001b[m\u001b[K’:\n",
            "\u001b[01m\u001b[K/content/planercnn_with_adf/nms/src/nms_cuda.c:29:35:\u001b[m\u001b[K \u001b[01;35m\u001b[Kwarning: \u001b[m\u001b[Kinitialization from incompatible pointer type [\u001b[01;35m\u001b[K-Wincompatible-pointer-types\u001b[m\u001b[K]\n",
            "   unsigned long long* mask_flat = \u001b[01;35m\u001b[KTHCudaLongTensor_data\u001b[m\u001b[K(state, mask);\n",
            "                                   \u001b[01;35m\u001b[K^~~~~~~~~~~~~~~~~~~~~\u001b[m\u001b[K\n",
            "\u001b[01m\u001b[K/content/planercnn_with_adf/nms/src/nms_cuda.c:37:40:\u001b[m\u001b[K \u001b[01;35m\u001b[Kwarning: \u001b[m\u001b[Kinitialization from incompatible pointer type [\u001b[01;35m\u001b[K-Wincompatible-pointer-types\u001b[m\u001b[K]\n",
            "   unsigned long long * mask_cpu_flat = \u001b[01;35m\u001b[KTHLongTensor_data\u001b[m\u001b[K(mask_cpu);\n",
            "                                        \u001b[01;35m\u001b[K^~~~~~~~~~~~~~~~~\u001b[m\u001b[K\n",
            "\u001b[01m\u001b[K/content/planercnn_with_adf/nms/src/nms_cuda.c:40:39:\u001b[m\u001b[K \u001b[01;35m\u001b[Kwarning: \u001b[m\u001b[Kinitialization from incompatible pointer type [\u001b[01;35m\u001b[K-Wincompatible-pointer-types\u001b[m\u001b[K]\n",
            "   unsigned long long* remv_cpu_flat = \u001b[01;35m\u001b[KTHLongTensor_data\u001b[m\u001b[K(remv_cpu);\n",
            "                                       \u001b[01;35m\u001b[K^~~~~~~~~~~~~~~~~\u001b[m\u001b[K\n",
            "\u001b[01m\u001b[K/content/planercnn_with_adf/nms/src/nms_cuda.c:23:7:\u001b[m\u001b[K \u001b[01;35m\u001b[Kwarning: \u001b[m\u001b[Kunused variable ‘\u001b[01m\u001b[Kboxes_dim\u001b[m\u001b[K’ [\u001b[01;35m\u001b[K-Wunused-variable\u001b[m\u001b[K]\n",
            "   int \u001b[01;35m\u001b[Kboxes_dim\u001b[m\u001b[K = THCudaTensor_size(state, boxes, 1);\n",
            "       \u001b[01;35m\u001b[K^~~~~~~~~\u001b[m\u001b[K\n",
            "x86_64-linux-gnu-gcc -pthread -shared -Wl,-O1 -Wl,-Bsymbolic-functions -Wl,-Bsymbolic-functions -Wl,-z,relro -Wl,-Bsymbolic-functions -Wl,-z,relro -g -fstack-protector-strong -Wformat -Werror=format-security -Wdate-time -D_FORTIFY_SOURCE=2 ./_nms.o ./content/planercnn_with_adf/nms/src/nms.o ./content/planercnn_with_adf/nms/src/nms_cuda.o /content/planercnn_with_adf/nms/src/cuda/nms_kernel.cu.o -o ./_nms.so\n"
          ],
          "name": "stdout"
        }
      ]
    },
    {
      "cell_type": "code",
      "metadata": {
        "id": "EJ2tb2a9Hivg",
        "outputId": "75014805-cd5a-40a1-ca0b-9ec5a134c763",
        "colab": {
          "base_uri": "https://localhost:8080/"
        }
      },
      "source": [
        "cd .."
      ],
      "execution_count": 50,
      "outputs": [
        {
          "output_type": "stream",
          "text": [
            "/content/planercnn_with_adf\n"
          ],
          "name": "stdout"
        }
      ]
    },
    {
      "cell_type": "code",
      "metadata": {
        "id": "7VVwwkKcHf9B",
        "outputId": "7840b76c-71ef-45df-a432-b5db13bd28f3",
        "colab": {
          "base_uri": "https://localhost:8080/"
        }
      },
      "source": [
        "cd roialign/roi_align/src/cuda/"
      ],
      "execution_count": 51,
      "outputs": [
        {
          "output_type": "stream",
          "text": [
            "/content/planercnn_with_adf/roialign/roi_align/src/cuda\n"
          ],
          "name": "stdout"
        }
      ]
    },
    {
      "cell_type": "code",
      "metadata": {
        "id": "qfjvCvCNFhiE"
      },
      "source": [
        "!nvcc -c -o crop_and_resize_kernel.cu.o crop_and_resize_kernel.cu -x cu -Xcompiler -fPIC -arch=sm_60"
      ],
      "execution_count": 52,
      "outputs": []
    },
    {
      "cell_type": "code",
      "metadata": {
        "id": "Y14WNzyuHnK2",
        "outputId": "1d6407e5-ce5d-43dc-cdc6-4b2823326f44",
        "colab": {
          "base_uri": "https://localhost:8080/"
        }
      },
      "source": [
        "cd ../../"
      ],
      "execution_count": 53,
      "outputs": [
        {
          "output_type": "stream",
          "text": [
            "/content/planercnn_with_adf/roialign/roi_align\n"
          ],
          "name": "stdout"
        }
      ]
    },
    {
      "cell_type": "code",
      "metadata": {
        "id": "jzAA_KSnHnXU",
        "outputId": "d8e3e2a9-5009-418b-c796-d29a55dbe8f3",
        "colab": {
          "base_uri": "https://localhost:8080/"
        }
      },
      "source": [
        "!python build.py"
      ],
      "execution_count": 54,
      "outputs": [
        {
          "output_type": "stream",
          "text": [
            "Including CUDA code.\n",
            "/content/planercnn_with_adf/roialign/roi_align\n",
            "generating /tmp/tmprfw1vwgp/_crop_and_resize.c\n",
            "setting the current directory to '/tmp/tmprfw1vwgp'\n",
            "running build_ext\n",
            "building '_crop_and_resize' extension\n",
            "creating content\n",
            "creating content/planercnn_with_adf\n",
            "creating content/planercnn_with_adf/roialign\n",
            "creating content/planercnn_with_adf/roialign/roi_align\n",
            "creating content/planercnn_with_adf/roialign/roi_align/src\n",
            "x86_64-linux-gnu-gcc -pthread -DNDEBUG -g -fwrapv -O2 -Wall -g -fstack-protector-strong -Wformat -Werror=format-security -Wdate-time -D_FORTIFY_SOURCE=2 -fPIC -DWITH_CUDA -I/usr/local/lib/python3.6/dist-packages/torch/utils/ffi/../../lib/include -I/usr/local/lib/python3.6/dist-packages/torch/utils/ffi/../../lib/include/TH -I/usr/local/lib/python3.6/dist-packages/torch/utils/ffi/../../lib/include/THC -I/usr/local/cuda/include -I/usr/include/python3.6m -c _crop_and_resize.c -o ./_crop_and_resize.o -std=c99 -fopenmp -std=c99\n",
            "x86_64-linux-gnu-gcc -pthread -DNDEBUG -g -fwrapv -O2 -Wall -g -fstack-protector-strong -Wformat -Werror=format-security -Wdate-time -D_FORTIFY_SOURCE=2 -fPIC -DWITH_CUDA -I/usr/local/lib/python3.6/dist-packages/torch/utils/ffi/../../lib/include -I/usr/local/lib/python3.6/dist-packages/torch/utils/ffi/../../lib/include/TH -I/usr/local/lib/python3.6/dist-packages/torch/utils/ffi/../../lib/include/THC -I/usr/local/cuda/include -I/usr/include/python3.6m -c /content/planercnn_with_adf/roialign/roi_align/src/crop_and_resize.c -o ./content/planercnn_with_adf/roialign/roi_align/src/crop_and_resize.o -std=c99 -fopenmp -std=c99\n",
            "x86_64-linux-gnu-gcc -pthread -DNDEBUG -g -fwrapv -O2 -Wall -g -fstack-protector-strong -Wformat -Werror=format-security -Wdate-time -D_FORTIFY_SOURCE=2 -fPIC -DWITH_CUDA -I/usr/local/lib/python3.6/dist-packages/torch/utils/ffi/../../lib/include -I/usr/local/lib/python3.6/dist-packages/torch/utils/ffi/../../lib/include/TH -I/usr/local/lib/python3.6/dist-packages/torch/utils/ffi/../../lib/include/THC -I/usr/local/cuda/include -I/usr/include/python3.6m -c /content/planercnn_with_adf/roialign/roi_align/src/crop_and_resize_gpu.c -o ./content/planercnn_with_adf/roialign/roi_align/src/crop_and_resize_gpu.o -std=c99 -fopenmp -std=c99\n",
            "x86_64-linux-gnu-gcc -pthread -shared -Wl,-O1 -Wl,-Bsymbolic-functions -Wl,-Bsymbolic-functions -Wl,-z,relro -Wl,-Bsymbolic-functions -Wl,-z,relro -g -fstack-protector-strong -Wformat -Werror=format-security -Wdate-time -D_FORTIFY_SOURCE=2 ./_crop_and_resize.o ./content/planercnn_with_adf/roialign/roi_align/src/crop_and_resize.o ./content/planercnn_with_adf/roialign/roi_align/src/crop_and_resize_gpu.o /content/planercnn_with_adf/roialign/roi_align/src/cuda/crop_and_resize_kernel.cu.o -o ./_crop_and_resize.so\n"
          ],
          "name": "stdout"
        }
      ]
    },
    {
      "cell_type": "code",
      "metadata": {
        "id": "iHq89ofiHnir",
        "outputId": "53343193-31ef-41af-cdc8-4a249a41366a",
        "colab": {
          "base_uri": "https://localhost:8080/"
        }
      },
      "source": [
        "cd ../../"
      ],
      "execution_count": 55,
      "outputs": [
        {
          "output_type": "stream",
          "text": [
            "/content/planercnn_with_adf\n"
          ],
          "name": "stdout"
        }
      ]
    },
    {
      "cell_type": "code",
      "metadata": {
        "id": "CSSg64DFx7QS"
      },
      "source": [
        "#!python evaluate_adf.py --methods=f --suffix=warping_refine --dataset=inference --customDataFolder=example_images"
      ],
      "execution_count": 56,
      "outputs": []
    },
    {
      "cell_type": "code",
      "metadata": {
        "id": "zRAp-ZFDJXRl",
        "outputId": "aa1d4b37-700c-454a-d8a9-1063914165b0",
        "colab": {
          "base_uri": "https://localhost:8080/"
        }
      },
      "source": [
        "ls"
      ],
      "execution_count": 57,
      "outputs": [
        {
          "output_type": "stream",
          "text": [
            "\u001b[0m\u001b[01;34manchors\u001b[0m/    \u001b[01;32mevaluate_adf.py\u001b[0m*    \u001b[01;34mmodels_adf\u001b[0m/      \u001b[01;32mrequirements.txt\u001b[0m*\n",
            "\u001b[01;32mconfig.py\u001b[0m*  \u001b[01;32mevaluate.py\u001b[0m*        \u001b[01;34mnms\u001b[0m/             \u001b[01;34mroialign\u001b[0m/\n",
            "\u001b[01;34mcontrib\u001b[0m/    \u001b[01;32mevaluate_utils.py\u001b[0m*  \u001b[01;32moptions.py\u001b[0m*      \u001b[01;32mtrain_planercnn.py\u001b[0m*\n",
            "\u001b[01;34mdata_prep\u001b[0m/  \u001b[01;34mexample_images\u001b[0m/     \u001b[01;32mplane_utils.py\u001b[0m*  \u001b[01;32mutils.py\u001b[0m*\n",
            "\u001b[01;34mdatasets\u001b[0m/   \u001b[01;34mmodels\u001b[0m/             README.md        \u001b[01;32mvisualize_utils.py\u001b[0m*\n"
          ],
          "name": "stdout"
        }
      ]
    },
    {
      "cell_type": "code",
      "metadata": {
        "id": "Ferrlvq_JaXp"
      },
      "source": [
        "mkdir inputs"
      ],
      "execution_count": 58,
      "outputs": []
    },
    {
      "cell_type": "code",
      "metadata": {
        "id": "pGR2cpoPx5J5",
        "outputId": "0ccaf20a-5f6f-43d7-dc2b-e76a6e79c5b3",
        "colab": {
          "base_uri": "https://localhost:8080/"
        }
      },
      "source": [
        "%%writefile inputs/camera.txt\n",
        "587 587 320 240 640 480"
      ],
      "execution_count": 59,
      "outputs": [
        {
          "output_type": "stream",
          "text": [
            "Writing inputs/camera.txt\n"
          ],
          "name": "stdout"
        }
      ]
    },
    {
      "cell_type": "code",
      "metadata": {
        "id": "ddl8FpYTy2WY"
      },
      "source": [
        "# !zip -r testfile.zip test"
      ],
      "execution_count": 60,
      "outputs": []
    },
    {
      "cell_type": "code",
      "metadata": {
        "id": "dIX4oKMmVD5o",
        "outputId": "c0ccaea0-71f3-40da-ca42-1e03498c25b2",
        "colab": {
          "base_uri": "https://localhost:8080/"
        }
      },
      "source": [
        "!ls"
      ],
      "execution_count": 61,
      "outputs": [
        {
          "output_type": "stream",
          "text": [
            "anchors\t\t evaluate.py\t    nms\t\t      train_planercnn.py\n",
            "config.py\t evaluate_utils.py  options.py\t      utils.py\n",
            "contrib\t\t example_images     plane_utils.py    visualize_utils.py\n",
            "data_prep\t inputs\t\t    README.md\n",
            "datasets\t models\t\t    requirements.txt\n",
            "evaluate_adf.py  models_adf\t    roialign\n"
          ],
          "name": "stdout"
        }
      ]
    },
    {
      "cell_type": "code",
      "metadata": {
        "id": "nLZIxpwOxUvO",
        "outputId": "5c8b4efc-1493-4a2e-f463-56c7135eec4d",
        "colab": {
          "base_uri": "https://localhost:8080/"
        }
      },
      "source": [
        "cd /content/planercnn_with_adf/"
      ],
      "execution_count": 62,
      "outputs": [
        {
          "output_type": "stream",
          "text": [
            "/content/planercnn_with_adf\n"
          ],
          "name": "stdout"
        }
      ]
    },
    {
      "cell_type": "code",
      "metadata": {
        "id": "3BBtazJuwizH",
        "outputId": "73eb95d6-7ae1-43f2-a8f1-e891e0ca19b6",
        "colab": {
          "base_uri": "https://localhost:8080/"
        }
      },
      "source": [
        "!wget https://www.dropbox.com/s/yjcg6s57n581sk0/checkpoint.zip?dl=0"
      ],
      "execution_count": 63,
      "outputs": [
        {
          "output_type": "stream",
          "text": [
            "--2020-10-31 11:33:37--  https://www.dropbox.com/s/yjcg6s57n581sk0/checkpoint.zip?dl=0\n",
            "Resolving www.dropbox.com (www.dropbox.com)... 162.125.6.1, 2620:100:601c:1::a27d:601\n",
            "Connecting to www.dropbox.com (www.dropbox.com)|162.125.6.1|:443... connected.\n",
            "HTTP request sent, awaiting response... 301 Moved Permanently\n",
            "Location: /s/raw/yjcg6s57n581sk0/checkpoint.zip [following]\n",
            "--2020-10-31 11:33:37--  https://www.dropbox.com/s/raw/yjcg6s57n581sk0/checkpoint.zip\n",
            "Reusing existing connection to www.dropbox.com:443.\n",
            "HTTP request sent, awaiting response... 302 Found\n",
            "Location: https://uca9823fa6784de130d048eb6faa.dl.dropboxusercontent.com/cd/0/inline/BCRfu87cO25Fiu-ZPaY7jhiUKtuuLs2PUSVBPMW2cimkGLUANyS5wKUnHdL19j4zYxSEFzdkR3RyAi6VuUemtjnYis12UnIziCh7PvQW4cdzng/file# [following]\n",
            "--2020-10-31 11:33:38--  https://uca9823fa6784de130d048eb6faa.dl.dropboxusercontent.com/cd/0/inline/BCRfu87cO25Fiu-ZPaY7jhiUKtuuLs2PUSVBPMW2cimkGLUANyS5wKUnHdL19j4zYxSEFzdkR3RyAi6VuUemtjnYis12UnIziCh7PvQW4cdzng/file\n",
            "Resolving uca9823fa6784de130d048eb6faa.dl.dropboxusercontent.com (uca9823fa6784de130d048eb6faa.dl.dropboxusercontent.com)... 162.125.6.15, 2620:100:601c:15::a27d:60f\n",
            "Connecting to uca9823fa6784de130d048eb6faa.dl.dropboxusercontent.com (uca9823fa6784de130d048eb6faa.dl.dropboxusercontent.com)|162.125.6.15|:443... connected.\n",
            "HTTP request sent, awaiting response... 302 Found\n",
            "Location: /cd/0/inline2/BCR6u--TeE0NFpmHHVymTrQPyHriuLdEGGtiTQUl2Ahs92_hxs_P-wT-AOUghOqotFcNmb37pAVdVFuv_eCVJgETgOlAsaCaJMBCUX0VDLKW022ac4zhVa7NDGNDSRhAHw8WSSpJqSySLWbXflbYB-hbxDUIOUlddnx4r8nbOeLUJL4RrZVfyTm4PxiC--9kGr6x8pcbMmKVsinzmu_bHNvuFDYp235-NNrOjGjntMb8oh4gTirUEhA9mxfTSTPC5vdBheZw9h7O7bXAXqNyujZmHMTHO78MQcWiJC4-BBi_0d9PB3ssL-rrdlQ0Jkz_Nbg1tS47NIF_9_RNxfuQeThI/file [following]\n",
            "--2020-10-31 11:33:38--  https://uca9823fa6784de130d048eb6faa.dl.dropboxusercontent.com/cd/0/inline2/BCR6u--TeE0NFpmHHVymTrQPyHriuLdEGGtiTQUl2Ahs92_hxs_P-wT-AOUghOqotFcNmb37pAVdVFuv_eCVJgETgOlAsaCaJMBCUX0VDLKW022ac4zhVa7NDGNDSRhAHw8WSSpJqSySLWbXflbYB-hbxDUIOUlddnx4r8nbOeLUJL4RrZVfyTm4PxiC--9kGr6x8pcbMmKVsinzmu_bHNvuFDYp235-NNrOjGjntMb8oh4gTirUEhA9mxfTSTPC5vdBheZw9h7O7bXAXqNyujZmHMTHO78MQcWiJC4-BBi_0d9PB3ssL-rrdlQ0Jkz_Nbg1tS47NIF_9_RNxfuQeThI/file\n",
            "Reusing existing connection to uca9823fa6784de130d048eb6faa.dl.dropboxusercontent.com:443.\n",
            "HTTP request sent, awaiting response... 200 OK\n",
            "Length: 262259930 (250M) [application/zip]\n",
            "Saving to: ‘checkpoint.zip?dl=0’\n",
            "\n",
            "checkpoint.zip?dl=0 100%[===================>] 250.11M  62.6MB/s    in 4.0s    \n",
            "\n",
            "2020-10-31 11:33:43 (62.6 MB/s) - ‘checkpoint.zip?dl=0’ saved [262259930/262259930]\n",
            "\n"
          ],
          "name": "stdout"
        }
      ]
    },
    {
      "cell_type": "code",
      "metadata": {
        "id": "rZnSRX0dwjlQ"
      },
      "source": [
        "!mkdir checkpoint"
      ],
      "execution_count": 64,
      "outputs": []
    },
    {
      "cell_type": "code",
      "metadata": {
        "id": "av-65E7AwkxE"
      },
      "source": [
        "!mv \"checkpoint.zip?dl=0\" \"planercnn_refine.zip\" "
      ],
      "execution_count": 65,
      "outputs": []
    },
    {
      "cell_type": "code",
      "metadata": {
        "id": "WS4AJQdpxFAQ"
      },
      "source": [
        "!mv planercnn_refine.zip checkpoint/"
      ],
      "execution_count": 66,
      "outputs": []
    },
    {
      "cell_type": "code",
      "metadata": {
        "id": "fT6X-VfIxImG",
        "outputId": "adf91ac0-7ed7-40b5-8ad6-1157f493b0e3",
        "colab": {
          "base_uri": "https://localhost:8080/"
        }
      },
      "source": [
        "cd checkpoint/"
      ],
      "execution_count": 67,
      "outputs": [
        {
          "output_type": "stream",
          "text": [
            "/content/planercnn_with_adf/checkpoint\n"
          ],
          "name": "stdout"
        }
      ]
    },
    {
      "cell_type": "code",
      "metadata": {
        "id": "BYfed-UKxLpI",
        "outputId": "e6508c05-d2b7-4f2a-8a83-db549ffddaca",
        "colab": {
          "base_uri": "https://localhost:8080/"
        }
      },
      "source": [
        "!unzip planercnn_refine.zip"
      ],
      "execution_count": 68,
      "outputs": [
        {
          "output_type": "stream",
          "text": [
            "Archive:  planercnn_refine.zip\n",
            "   creating: planercnn_normal_warping_refine/\n",
            "  inflating: planercnn_normal_warping_refine/checkpoint_refine.pth  \n",
            "  inflating: planercnn_normal_warping_refine/checkpoint.pth  \n"
          ],
          "name": "stdout"
        }
      ]
    },
    {
      "cell_type": "code",
      "metadata": {
        "id": "fLiOOG_rx9ZX",
        "outputId": "bf59b815-57b8-46b0-ac6b-ef4bc674c9d5",
        "colab": {
          "base_uri": "https://localhost:8080/"
        }
      },
      "source": [
        "from google.colab import drive\n",
        "drive.mount('/content/drive')"
      ],
      "execution_count": 69,
      "outputs": [
        {
          "output_type": "stream",
          "text": [
            "Mounted at /content/drive\n"
          ],
          "name": "stdout"
        }
      ]
    },
    {
      "cell_type": "code",
      "metadata": {
        "id": "fuovWF4xyZWc"
      },
      "source": [
        "cp /content/drive/My\\ Drive/computer_vision/session14_assignment/planercnn-master/inputs/Images/* /content/planercnn_with_adf/inputs/"
      ],
      "execution_count": 71,
      "outputs": []
    },
    {
      "cell_type": "code",
      "metadata": {
        "id": "MTKZjkXfIQDP"
      },
      "source": [
        "## Update evaluate_adf.py - comment line 644, 645, 646"
      ],
      "execution_count": null,
      "outputs": []
    },
    {
      "cell_type": "code",
      "metadata": {
        "id": "5bnXwDbv_3E3"
      },
      "source": [
        "# rm /content/planercnn_with_adf/test/inference/*"
      ],
      "execution_count": null,
      "outputs": []
    },
    {
      "cell_type": "code",
      "metadata": {
        "id": "Oqm8jtm7y4Wd",
        "outputId": "0440bfa2-0c6c-4d9b-ba94-fa2821f7d280",
        "colab": {
          "base_uri": "https://localhost:8080/"
        }
      },
      "source": [
        "ls /content/planercnn_with_adf/inputs/ | wc -l"
      ],
      "execution_count": 72,
      "outputs": [
        {
          "output_type": "stream",
          "text": [
            "3591\n"
          ],
          "name": "stdout"
        }
      ]
    },
    {
      "cell_type": "code",
      "metadata": {
        "id": "OtK8LM360YeV"
      },
      "source": [
        "from shutil import copyfile\n",
        "import shutil\n",
        "import os\n",
        "import glob"
      ],
      "execution_count": 73,
      "outputs": []
    },
    {
      "cell_type": "code",
      "metadata": {
        "id": "Oqm_3_IkKdXp",
        "outputId": "9165ad2a-26d3-44e1-aed4-4125cf2bdfae",
        "colab": {
          "base_uri": "https://localhost:8080/"
        }
      },
      "source": [
        "cd /content/planercnn_with_adf\n"
      ],
      "execution_count": 74,
      "outputs": [
        {
          "output_type": "stream",
          "text": [
            "/content/planercnn_with_adf\n"
          ],
          "name": "stdout"
        }
      ]
    },
    {
      "cell_type": "code",
      "metadata": {
        "id": "pP2tbD4GN6OC"
      },
      "source": [
        "!mkdir input_temp"
      ],
      "execution_count": 75,
      "outputs": []
    },
    {
      "cell_type": "code",
      "metadata": {
        "id": "5VVZpm7temxl",
        "outputId": "bd6297d2-42eb-4860-e6aa-748600772b43",
        "colab": {
          "base_uri": "https://localhost:8080/"
        }
      },
      "source": [
        "img_names_list1 = glob.glob('inputs/*')\n",
        "img_names_list1.remove(\"inputs/camera.txt\")\n",
        "len(img_names_list1)"
      ],
      "execution_count": 76,
      "outputs": [
        {
          "output_type": "execute_result",
          "data": {
            "text/plain": [
              "3590"
            ]
          },
          "metadata": {
            "tags": []
          },
          "execution_count": 76
        }
      ]
    },
    {
      "cell_type": "code",
      "metadata": {
        "id": "Q3BvDie8evtG"
      },
      "source": [
        "def copy_images(src, tar, input_filename):\n",
        "  files = glob.glob(src)\n",
        "  # print(files)\n",
        "  for f in files:\n",
        "    filename = f.split(\"/\")[-1]\n",
        "    if('image' in filename or 'segmentation_0_final' in filename):\n",
        "      if 'image_0' in filename:\n",
        "        new_input_filename = input_filename.split('.')[:-1][0]+'.png'\n",
        "        new_filename = os.path.dirname(os.path.realpath(f))+\"/\"+new_input_filename\n",
        "        os.rename(f,new_filename)\n",
        "        shutil.copy(new_filename, f\"{tar}{new_input_filename}\")\n",
        "      elif 'segmentation_0_final' in filename:\n",
        "        new_output_filename = input_filename.split('.')[:-1][0]+'_segmentation_final.png'\n",
        "        new_filename = os.path.dirname(os.path.realpath(f))+\"/\"+new_output_filename\n",
        "        os.rename(f,new_filename)\n",
        "        shutil.copy(new_filename, f\"{tar}{new_output_filename}\")"
      ],
      "execution_count": 92,
      "outputs": []
    },
    {
      "cell_type": "code",
      "metadata": {
        "id": "lU_HIrlXeyNl"
      },
      "source": [
        "def clean_dir(dir):\n",
        "  os.system(f'rm -f {dir}*')"
      ],
      "execution_count": 88,
      "outputs": []
    },
    {
      "cell_type": "code",
      "metadata": {
        "id": "8RRGsaBXezEF"
      },
      "source": [
        "output = '/content/drive/My Drive/computer_vision/session14_assignment/planercnn-master/outputs/'"
      ],
      "execution_count": 89,
      "outputs": []
    },
    {
      "cell_type": "code",
      "metadata": {
        "id": "OIVv6LdZfEf8",
        "outputId": "5d578e8e-8deb-43bb-f3f2-4130ead26e62",
        "colab": {
          "base_uri": "https://localhost:8080/"
        }
      },
      "source": [
        "for i in range(3590):\n",
        "  if len(img_names_list1)>0:\n",
        "    img_names_temp = img_names_list1[:1]\n",
        "  print(f'running set - {i}')\n",
        "  del img_names_list1[:1]\n",
        "  os.system('rm -f input_temp/*')\n",
        "  for item in img_names_temp:\n",
        "    src = item\n",
        "    filename = item.split(\"/\")[1]\n",
        "    dst = 'input_temp/'+filename\n",
        "    copyfile(src, dst) # copy 100 images\n",
        "  copyfile('inputs/camera.txt', 'input_temp/camera.txt') # copy camera.txt file\n",
        "  os.system('rm -f test/inference/*') # Cleaning inference folder to clean before evaluation.\n",
        "  os.system('python evaluate_adf.py --methods=f --suffix=warping_refine --dataset=inference --customDataFolder=input_temp')\n",
        "  copy_images('test/inference/*', output, filename)\n",
        "  # print(f'Yet to run - {len(img_names_list1)} images')"
      ],
      "execution_count": null,
      "outputs": [
        {
          "output_type": "stream",
          "text": [
            "running set - 0\n",
            "running set - 1\n",
            "running set - 2\n",
            "running set - 3\n",
            "running set - 4\n",
            "running set - 5\n",
            "running set - 6\n",
            "running set - 7\n",
            "running set - 8\n",
            "running set - 9\n",
            "running set - 10\n",
            "running set - 11\n",
            "running set - 12\n",
            "running set - 13\n",
            "running set - 14\n",
            "running set - 15\n",
            "running set - 16\n",
            "running set - 17\n",
            "running set - 18\n",
            "running set - 19\n",
            "running set - 20\n",
            "running set - 21\n",
            "running set - 22\n",
            "running set - 23\n",
            "running set - 24\n",
            "running set - 25\n",
            "running set - 26\n",
            "running set - 27\n",
            "running set - 28\n",
            "running set - 29\n",
            "running set - 30\n",
            "running set - 31\n",
            "running set - 32\n",
            "running set - 33\n",
            "running set - 34\n",
            "running set - 35\n",
            "running set - 36\n",
            "running set - 37\n",
            "running set - 38\n",
            "running set - 39\n",
            "running set - 40\n",
            "running set - 41\n",
            "running set - 42\n",
            "running set - 43\n",
            "running set - 44\n",
            "running set - 45\n",
            "running set - 46\n",
            "running set - 47\n",
            "running set - 48\n",
            "running set - 49\n",
            "running set - 50\n",
            "running set - 51\n",
            "running set - 52\n",
            "running set - 53\n",
            "running set - 54\n",
            "running set - 55\n",
            "running set - 56\n",
            "running set - 57\n",
            "running set - 58\n",
            "running set - 59\n",
            "running set - 60\n",
            "running set - 61\n",
            "running set - 62\n",
            "running set - 63\n",
            "running set - 64\n",
            "running set - 65\n",
            "running set - 66\n",
            "running set - 67\n",
            "running set - 68\n",
            "running set - 69\n",
            "running set - 70\n",
            "running set - 71\n",
            "running set - 72\n",
            "running set - 73\n",
            "running set - 74\n",
            "running set - 75\n",
            "running set - 76\n",
            "running set - 77\n",
            "running set - 78\n",
            "running set - 79\n",
            "running set - 80\n",
            "running set - 81\n",
            "running set - 82\n",
            "running set - 83\n",
            "running set - 84\n",
            "running set - 85\n",
            "running set - 86\n",
            "running set - 87\n",
            "running set - 88\n",
            "running set - 89\n",
            "running set - 90\n",
            "running set - 91\n",
            "running set - 92\n",
            "running set - 93\n",
            "running set - 94\n",
            "running set - 95\n",
            "running set - 96\n",
            "running set - 97\n",
            "running set - 98\n",
            "running set - 99\n",
            "running set - 100\n",
            "running set - 101\n",
            "running set - 102\n",
            "running set - 103\n",
            "running set - 104\n",
            "running set - 105\n",
            "running set - 106\n",
            "running set - 107\n",
            "running set - 108\n",
            "running set - 109\n",
            "running set - 110\n",
            "running set - 111\n",
            "running set - 112\n",
            "running set - 113\n",
            "running set - 114\n",
            "running set - 115\n",
            "running set - 116\n",
            "running set - 117\n",
            "running set - 118\n",
            "running set - 119\n",
            "running set - 120\n",
            "running set - 121\n",
            "running set - 122\n",
            "running set - 123\n",
            "running set - 124\n",
            "running set - 125\n",
            "running set - 126\n",
            "running set - 127\n",
            "running set - 128\n",
            "running set - 129\n",
            "running set - 130\n",
            "running set - 131\n",
            "running set - 132\n",
            "running set - 133\n",
            "running set - 134\n",
            "running set - 135\n",
            "running set - 136\n",
            "running set - 137\n",
            "running set - 138\n",
            "running set - 139\n",
            "running set - 140\n",
            "running set - 141\n",
            "running set - 142\n",
            "running set - 143\n",
            "running set - 144\n",
            "running set - 145\n",
            "running set - 146\n",
            "running set - 147\n",
            "running set - 148\n",
            "running set - 149\n",
            "running set - 150\n",
            "running set - 151\n",
            "running set - 152\n",
            "running set - 153\n",
            "running set - 154\n",
            "running set - 155\n",
            "running set - 156\n",
            "running set - 157\n",
            "running set - 158\n",
            "running set - 159\n",
            "running set - 160\n",
            "running set - 161\n",
            "running set - 162\n",
            "running set - 163\n",
            "running set - 164\n",
            "running set - 165\n",
            "running set - 166\n",
            "running set - 167\n",
            "running set - 168\n",
            "running set - 169\n",
            "running set - 170\n",
            "running set - 171\n",
            "running set - 172\n",
            "running set - 173\n",
            "running set - 174\n",
            "running set - 175\n",
            "running set - 176\n",
            "running set - 177\n",
            "running set - 178\n",
            "running set - 179\n",
            "running set - 180\n",
            "running set - 181\n",
            "running set - 182\n",
            "running set - 183\n",
            "running set - 184\n",
            "running set - 185\n",
            "running set - 186\n",
            "running set - 187\n",
            "running set - 188\n",
            "running set - 189\n",
            "running set - 190\n",
            "running set - 191\n",
            "running set - 192\n",
            "running set - 193\n",
            "running set - 194\n",
            "running set - 195\n",
            "running set - 196\n",
            "running set - 197\n",
            "running set - 198\n",
            "running set - 199\n",
            "running set - 200\n",
            "running set - 201\n",
            "running set - 202\n",
            "running set - 203\n",
            "running set - 204\n",
            "running set - 205\n",
            "running set - 206\n",
            "running set - 207\n",
            "running set - 208\n",
            "running set - 209\n",
            "running set - 210\n",
            "running set - 211\n",
            "running set - 212\n",
            "running set - 213\n",
            "running set - 214\n",
            "running set - 215\n",
            "running set - 216\n",
            "running set - 217\n",
            "running set - 218\n",
            "running set - 219\n",
            "running set - 220\n",
            "running set - 221\n",
            "running set - 222\n",
            "running set - 223\n",
            "running set - 224\n",
            "running set - 225\n",
            "running set - 226\n",
            "running set - 227\n",
            "running set - 228\n",
            "running set - 229\n",
            "running set - 230\n",
            "running set - 231\n",
            "running set - 232\n",
            "running set - 233\n",
            "running set - 234\n",
            "running set - 235\n",
            "running set - 236\n",
            "running set - 237\n",
            "running set - 238\n",
            "running set - 239\n",
            "running set - 240\n",
            "running set - 241\n",
            "running set - 242\n",
            "running set - 243\n",
            "running set - 244\n",
            "running set - 245\n",
            "running set - 246\n",
            "running set - 247\n",
            "running set - 248\n",
            "running set - 249\n",
            "running set - 250\n",
            "running set - 251\n",
            "running set - 252\n",
            "running set - 253\n",
            "running set - 254\n",
            "running set - 255\n",
            "running set - 256\n",
            "running set - 257\n",
            "running set - 258\n",
            "running set - 259\n",
            "running set - 260\n",
            "running set - 261\n",
            "running set - 262\n",
            "running set - 263\n",
            "running set - 264\n",
            "running set - 265\n",
            "running set - 266\n",
            "running set - 267\n",
            "running set - 268\n",
            "running set - 269\n",
            "running set - 270\n",
            "running set - 271\n",
            "running set - 272\n",
            "running set - 273\n",
            "running set - 274\n",
            "running set - 275\n",
            "running set - 276\n",
            "running set - 277\n",
            "running set - 278\n",
            "running set - 279\n",
            "running set - 280\n",
            "running set - 281\n",
            "running set - 282\n",
            "running set - 283\n",
            "running set - 284\n",
            "running set - 285\n",
            "running set - 286\n",
            "running set - 287\n",
            "running set - 288\n",
            "running set - 289\n",
            "running set - 290\n",
            "running set - 291\n",
            "running set - 292\n",
            "running set - 293\n",
            "running set - 294\n",
            "running set - 295\n",
            "running set - 296\n",
            "running set - 297\n",
            "running set - 298\n",
            "running set - 299\n",
            "running set - 300\n",
            "running set - 301\n",
            "running set - 302\n",
            "running set - 303\n",
            "running set - 304\n",
            "running set - 305\n",
            "running set - 306\n",
            "running set - 307\n",
            "running set - 308\n",
            "running set - 309\n",
            "running set - 310\n",
            "running set - 311\n",
            "running set - 312\n",
            "running set - 313\n",
            "running set - 314\n",
            "running set - 315\n",
            "running set - 316\n",
            "running set - 317\n",
            "running set - 318\n",
            "running set - 319\n",
            "running set - 320\n",
            "running set - 321\n",
            "running set - 322\n",
            "running set - 323\n",
            "running set - 324\n",
            "running set - 325\n",
            "running set - 326\n",
            "running set - 327\n",
            "running set - 328\n",
            "running set - 329\n",
            "running set - 330\n",
            "running set - 331\n",
            "running set - 332\n",
            "running set - 333\n",
            "running set - 334\n",
            "running set - 335\n",
            "running set - 336\n",
            "running set - 337\n",
            "running set - 338\n",
            "running set - 339\n",
            "running set - 340\n",
            "running set - 341\n",
            "running set - 342\n",
            "running set - 343\n",
            "running set - 344\n",
            "running set - 345\n",
            "running set - 346\n",
            "running set - 347\n",
            "running set - 348\n",
            "running set - 349\n",
            "running set - 350\n",
            "running set - 351\n",
            "running set - 352\n",
            "running set - 353\n",
            "running set - 354\n",
            "running set - 355\n",
            "running set - 356\n",
            "running set - 357\n",
            "running set - 358\n",
            "running set - 359\n",
            "running set - 360\n",
            "running set - 361\n",
            "running set - 362\n",
            "running set - 363\n",
            "running set - 364\n",
            "running set - 365\n",
            "running set - 366\n",
            "running set - 367\n",
            "running set - 368\n",
            "running set - 369\n",
            "running set - 370\n",
            "running set - 371\n",
            "running set - 372\n",
            "running set - 373\n",
            "running set - 374\n",
            "running set - 375\n",
            "running set - 376\n",
            "running set - 377\n",
            "running set - 378\n",
            "running set - 379\n",
            "running set - 380\n",
            "running set - 381\n",
            "running set - 382\n",
            "running set - 383\n",
            "running set - 384\n",
            "running set - 385\n",
            "running set - 386\n",
            "running set - 387\n",
            "running set - 388\n",
            "running set - 389\n",
            "running set - 390\n",
            "running set - 391\n",
            "running set - 392\n",
            "running set - 393\n",
            "running set - 394\n",
            "running set - 395\n",
            "running set - 396\n",
            "running set - 397\n",
            "running set - 398\n",
            "running set - 399\n",
            "running set - 400\n",
            "running set - 401\n",
            "running set - 402\n",
            "running set - 403\n",
            "running set - 404\n",
            "running set - 405\n",
            "running set - 406\n",
            "running set - 407\n",
            "running set - 408\n",
            "running set - 409\n",
            "running set - 410\n",
            "running set - 411\n",
            "running set - 412\n",
            "running set - 413\n",
            "running set - 414\n",
            "running set - 415\n",
            "running set - 416\n",
            "running set - 417\n",
            "running set - 418\n",
            "running set - 419\n",
            "running set - 420\n",
            "running set - 421\n",
            "running set - 422\n",
            "running set - 423\n",
            "running set - 424\n",
            "running set - 425\n",
            "running set - 426\n",
            "running set - 427\n",
            "running set - 428\n",
            "running set - 429\n",
            "running set - 430\n",
            "running set - 431\n",
            "running set - 432\n",
            "running set - 433\n",
            "running set - 434\n",
            "running set - 435\n",
            "running set - 436\n",
            "running set - 437\n",
            "running set - 438\n",
            "running set - 439\n",
            "running set - 440\n",
            "running set - 441\n",
            "running set - 442\n",
            "running set - 443\n",
            "running set - 444\n",
            "running set - 445\n",
            "running set - 446\n",
            "running set - 447\n",
            "running set - 448\n",
            "running set - 449\n",
            "running set - 450\n",
            "running set - 451\n",
            "running set - 452\n",
            "running set - 453\n",
            "running set - 454\n",
            "running set - 455\n",
            "running set - 456\n",
            "running set - 457\n",
            "running set - 458\n",
            "running set - 459\n",
            "running set - 460\n",
            "running set - 461\n",
            "running set - 462\n",
            "running set - 463\n",
            "running set - 464\n",
            "running set - 465\n",
            "running set - 466\n",
            "running set - 467\n",
            "running set - 468\n",
            "running set - 469\n",
            "running set - 470\n",
            "running set - 471\n",
            "running set - 472\n",
            "running set - 473\n",
            "running set - 474\n",
            "running set - 475\n",
            "running set - 476\n",
            "running set - 477\n",
            "running set - 478\n",
            "running set - 479\n",
            "running set - 480\n",
            "running set - 481\n",
            "running set - 482\n",
            "running set - 483\n",
            "running set - 484\n",
            "running set - 485\n",
            "running set - 486\n",
            "running set - 487\n",
            "running set - 488\n",
            "running set - 489\n",
            "running set - 490\n",
            "running set - 491\n",
            "running set - 492\n",
            "running set - 493\n",
            "running set - 494\n",
            "running set - 495\n",
            "running set - 496\n",
            "running set - 497\n",
            "running set - 498\n",
            "running set - 499\n",
            "running set - 500\n",
            "running set - 501\n",
            "running set - 502\n",
            "running set - 503\n",
            "running set - 504\n",
            "running set - 505\n",
            "running set - 506\n",
            "running set - 507\n",
            "running set - 508\n",
            "running set - 509\n",
            "running set - 510\n",
            "running set - 511\n",
            "running set - 512\n",
            "running set - 513\n",
            "running set - 514\n",
            "running set - 515\n",
            "running set - 516\n",
            "running set - 517\n",
            "running set - 518\n",
            "running set - 519\n",
            "running set - 520\n",
            "running set - 521\n",
            "running set - 522\n",
            "running set - 523\n",
            "running set - 524\n",
            "running set - 525\n",
            "running set - 526\n",
            "running set - 527\n",
            "running set - 528\n",
            "running set - 529\n",
            "running set - 530\n",
            "running set - 531\n",
            "running set - 532\n",
            "running set - 533\n",
            "running set - 534\n",
            "running set - 535\n",
            "running set - 536\n",
            "running set - 537\n",
            "running set - 538\n",
            "running set - 539\n",
            "running set - 540\n",
            "running set - 541\n",
            "running set - 542\n",
            "running set - 543\n",
            "running set - 544\n",
            "running set - 545\n",
            "running set - 546\n",
            "running set - 547\n",
            "running set - 548\n",
            "running set - 549\n",
            "running set - 550\n",
            "running set - 551\n",
            "running set - 552\n",
            "running set - 553\n",
            "running set - 554\n",
            "running set - 555\n",
            "running set - 556\n",
            "running set - 557\n",
            "running set - 558\n",
            "running set - 559\n",
            "running set - 560\n",
            "running set - 561\n",
            "running set - 562\n",
            "running set - 563\n",
            "running set - 564\n",
            "running set - 565\n",
            "running set - 566\n",
            "running set - 567\n",
            "running set - 568\n",
            "running set - 569\n",
            "running set - 570\n",
            "running set - 571\n",
            "running set - 572\n",
            "running set - 573\n",
            "running set - 574\n",
            "running set - 575\n",
            "running set - 576\n",
            "running set - 577\n",
            "running set - 578\n",
            "running set - 579\n",
            "running set - 580\n",
            "running set - 581\n",
            "running set - 582\n",
            "running set - 583\n",
            "running set - 584\n",
            "running set - 585\n",
            "running set - 586\n",
            "running set - 587\n",
            "running set - 588\n",
            "running set - 589\n",
            "running set - 590\n",
            "running set - 591\n",
            "running set - 592\n",
            "running set - 593\n",
            "running set - 594\n",
            "running set - 595\n",
            "running set - 596\n",
            "running set - 597\n",
            "running set - 598\n",
            "running set - 599\n",
            "running set - 600\n",
            "running set - 601\n",
            "running set - 602\n",
            "running set - 603\n",
            "running set - 604\n",
            "running set - 605\n",
            "running set - 606\n",
            "running set - 607\n",
            "running set - 608\n",
            "running set - 609\n",
            "running set - 610\n",
            "running set - 611\n",
            "running set - 612\n",
            "running set - 613\n",
            "running set - 614\n",
            "running set - 615\n",
            "running set - 616\n",
            "running set - 617\n",
            "running set - 618\n",
            "running set - 619\n",
            "running set - 620\n",
            "running set - 621\n",
            "running set - 622\n",
            "running set - 623\n",
            "running set - 624\n",
            "running set - 625\n",
            "running set - 626\n",
            "running set - 627\n",
            "running set - 628\n",
            "running set - 629\n",
            "running set - 630\n",
            "running set - 631\n",
            "running set - 632\n",
            "running set - 633\n",
            "running set - 634\n",
            "running set - 635\n",
            "running set - 636\n",
            "running set - 637\n",
            "running set - 638\n",
            "running set - 639\n",
            "running set - 640\n",
            "running set - 641\n",
            "running set - 642\n",
            "running set - 643\n",
            "running set - 644\n",
            "running set - 645\n",
            "running set - 646\n",
            "running set - 647\n",
            "running set - 648\n",
            "running set - 649\n",
            "running set - 650\n",
            "running set - 651\n",
            "running set - 652\n",
            "running set - 653\n",
            "running set - 654\n",
            "running set - 655\n",
            "running set - 656\n",
            "running set - 657\n",
            "running set - 658\n",
            "running set - 659\n",
            "running set - 660\n",
            "running set - 661\n",
            "running set - 662\n",
            "running set - 663\n",
            "running set - 664\n",
            "running set - 665\n",
            "running set - 666\n",
            "running set - 667\n",
            "running set - 668\n",
            "running set - 669\n",
            "running set - 670\n",
            "running set - 671\n",
            "running set - 672\n",
            "running set - 673\n",
            "running set - 674\n",
            "running set - 675\n",
            "running set - 676\n",
            "running set - 677\n",
            "running set - 678\n",
            "running set - 679\n",
            "running set - 680\n",
            "running set - 681\n",
            "running set - 682\n",
            "running set - 683\n",
            "running set - 684\n",
            "running set - 685\n",
            "running set - 686\n",
            "running set - 687\n",
            "running set - 688\n",
            "running set - 689\n",
            "running set - 690\n",
            "running set - 691\n",
            "running set - 692\n",
            "running set - 693\n",
            "running set - 694\n",
            "running set - 695\n",
            "running set - 696\n",
            "running set - 697\n",
            "running set - 698\n",
            "running set - 699\n",
            "running set - 700\n",
            "running set - 701\n",
            "running set - 702\n",
            "running set - 703\n",
            "running set - 704\n",
            "running set - 705\n",
            "running set - 706\n",
            "running set - 707\n",
            "running set - 708\n",
            "running set - 709\n",
            "running set - 710\n",
            "running set - 711\n",
            "running set - 712\n",
            "running set - 713\n",
            "running set - 714\n",
            "running set - 715\n",
            "running set - 716\n",
            "running set - 717\n",
            "running set - 718\n",
            "running set - 719\n",
            "running set - 720\n",
            "running set - 721\n",
            "running set - 722\n",
            "running set - 723\n",
            "running set - 724\n",
            "running set - 725\n",
            "running set - 726\n",
            "running set - 727\n",
            "running set - 728\n",
            "running set - 729\n",
            "running set - 730\n",
            "running set - 731\n",
            "running set - 732\n",
            "running set - 733\n",
            "running set - 734\n",
            "running set - 735\n",
            "running set - 736\n",
            "running set - 737\n",
            "running set - 738\n",
            "running set - 739\n",
            "running set - 740\n",
            "running set - 741\n",
            "running set - 742\n",
            "running set - 743\n",
            "running set - 744\n",
            "running set - 745\n",
            "running set - 746\n",
            "running set - 747\n",
            "running set - 748\n",
            "running set - 749\n",
            "running set - 750\n",
            "running set - 751\n",
            "running set - 752\n",
            "running set - 753\n",
            "running set - 754\n",
            "running set - 755\n",
            "running set - 756\n",
            "running set - 757\n",
            "running set - 758\n",
            "running set - 759\n",
            "running set - 760\n",
            "running set - 761\n",
            "running set - 762\n",
            "running set - 763\n",
            "running set - 764\n",
            "running set - 765\n",
            "running set - 766\n",
            "running set - 767\n",
            "running set - 768\n",
            "running set - 769\n",
            "running set - 770\n",
            "running set - 771\n",
            "running set - 772\n",
            "running set - 773\n",
            "running set - 774\n",
            "running set - 775\n",
            "running set - 776\n",
            "running set - 777\n",
            "running set - 778\n",
            "running set - 779\n",
            "running set - 780\n",
            "running set - 781\n",
            "running set - 782\n",
            "running set - 783\n",
            "running set - 784\n",
            "running set - 785\n",
            "running set - 786\n",
            "running set - 787\n",
            "running set - 788\n",
            "running set - 789\n",
            "running set - 790\n",
            "running set - 791\n",
            "running set - 792\n",
            "running set - 793\n",
            "running set - 794\n",
            "running set - 795\n",
            "running set - 796\n",
            "running set - 797\n",
            "running set - 798\n",
            "running set - 799\n",
            "running set - 800\n",
            "running set - 801\n",
            "running set - 802\n",
            "running set - 803\n",
            "running set - 804\n",
            "running set - 805\n",
            "running set - 806\n",
            "running set - 807\n",
            "running set - 808\n",
            "running set - 809\n",
            "running set - 810\n",
            "running set - 811\n",
            "running set - 812\n",
            "running set - 813\n",
            "running set - 814\n",
            "running set - 815\n",
            "running set - 816\n",
            "running set - 817\n",
            "running set - 818\n",
            "running set - 819\n",
            "running set - 820\n",
            "running set - 821\n",
            "running set - 822\n",
            "running set - 823\n",
            "running set - 824\n",
            "running set - 825\n",
            "running set - 826\n",
            "running set - 827\n",
            "running set - 828\n",
            "running set - 829\n",
            "running set - 830\n",
            "running set - 831\n",
            "running set - 832\n",
            "running set - 833\n",
            "running set - 834\n",
            "running set - 835\n",
            "running set - 836\n",
            "running set - 837\n",
            "running set - 838\n",
            "running set - 839\n",
            "running set - 840\n",
            "running set - 841\n",
            "running set - 842\n",
            "running set - 843\n",
            "running set - 844\n",
            "running set - 845\n",
            "running set - 846\n",
            "running set - 847\n",
            "running set - 848\n",
            "running set - 849\n",
            "running set - 850\n",
            "running set - 851\n",
            "running set - 852\n",
            "running set - 853\n",
            "running set - 854\n",
            "running set - 855\n",
            "running set - 856\n",
            "running set - 857\n",
            "running set - 858\n",
            "running set - 859\n",
            "running set - 860\n",
            "running set - 861\n",
            "running set - 862\n",
            "running set - 863\n",
            "running set - 864\n",
            "running set - 865\n",
            "running set - 866\n",
            "running set - 867\n",
            "running set - 868\n",
            "running set - 869\n",
            "running set - 870\n",
            "running set - 871\n",
            "running set - 872\n",
            "running set - 873\n",
            "running set - 874\n",
            "running set - 875\n",
            "running set - 876\n",
            "running set - 877\n",
            "running set - 878\n",
            "running set - 879\n",
            "running set - 880\n",
            "running set - 881\n",
            "running set - 882\n",
            "running set - 883\n",
            "running set - 884\n",
            "running set - 885\n",
            "running set - 886\n",
            "running set - 887\n",
            "running set - 888\n",
            "running set - 889\n",
            "running set - 890\n",
            "running set - 891\n",
            "running set - 892\n",
            "running set - 893\n",
            "running set - 894\n",
            "running set - 895\n",
            "running set - 896\n",
            "running set - 897\n",
            "running set - 898\n",
            "running set - 899\n",
            "running set - 900\n",
            "running set - 901\n",
            "running set - 902\n",
            "running set - 903\n",
            "running set - 904\n",
            "running set - 905\n",
            "running set - 906\n",
            "running set - 907\n",
            "running set - 908\n",
            "running set - 909\n",
            "running set - 910\n",
            "running set - 911\n",
            "running set - 912\n",
            "running set - 913\n",
            "running set - 914\n",
            "running set - 915\n",
            "running set - 916\n",
            "running set - 917\n",
            "running set - 918\n",
            "running set - 919\n",
            "running set - 920\n",
            "running set - 921\n",
            "running set - 922\n",
            "running set - 923\n",
            "running set - 924\n",
            "running set - 925\n",
            "running set - 926\n",
            "running set - 927\n",
            "running set - 928\n",
            "running set - 929\n",
            "running set - 930\n",
            "running set - 931\n",
            "running set - 932\n",
            "running set - 933\n",
            "running set - 934\n",
            "running set - 935\n",
            "running set - 936\n",
            "running set - 937\n",
            "running set - 938\n",
            "running set - 939\n",
            "running set - 940\n",
            "running set - 941\n",
            "running set - 942\n",
            "running set - 943\n",
            "running set - 944\n",
            "running set - 945\n",
            "running set - 946\n",
            "running set - 947\n",
            "running set - 948\n",
            "running set - 949\n",
            "running set - 950\n",
            "running set - 951\n",
            "running set - 952\n",
            "running set - 953\n",
            "running set - 954\n",
            "running set - 955\n",
            "running set - 956\n",
            "running set - 957\n",
            "running set - 958\n",
            "running set - 959\n",
            "running set - 960\n",
            "running set - 961\n",
            "running set - 962\n",
            "running set - 963\n",
            "running set - 964\n",
            "running set - 965\n",
            "running set - 966\n",
            "running set - 967\n",
            "running set - 968\n",
            "running set - 969\n",
            "running set - 970\n",
            "running set - 971\n",
            "running set - 972\n",
            "running set - 973\n",
            "running set - 974\n",
            "running set - 975\n",
            "running set - 976\n",
            "running set - 977\n",
            "running set - 978\n",
            "running set - 979\n",
            "running set - 980\n",
            "running set - 981\n",
            "running set - 982\n",
            "running set - 983\n",
            "running set - 984\n",
            "running set - 985\n",
            "running set - 986\n",
            "running set - 987\n",
            "running set - 988\n",
            "running set - 989\n",
            "running set - 990\n",
            "running set - 991\n",
            "running set - 992\n",
            "running set - 993\n",
            "running set - 994\n",
            "running set - 995\n",
            "running set - 996\n",
            "running set - 997\n",
            "running set - 998\n",
            "running set - 999\n",
            "running set - 1000\n",
            "running set - 1001\n",
            "running set - 1002\n",
            "running set - 1003\n",
            "running set - 1004\n",
            "running set - 1005\n",
            "running set - 1006\n",
            "running set - 1007\n",
            "running set - 1008\n",
            "running set - 1009\n",
            "running set - 1010\n",
            "running set - 1011\n",
            "running set - 1012\n",
            "running set - 1013\n",
            "running set - 1014\n",
            "running set - 1015\n",
            "running set - 1016\n",
            "running set - 1017\n",
            "running set - 1018\n",
            "running set - 1019\n",
            "running set - 1020\n",
            "running set - 1021\n",
            "running set - 1022\n",
            "running set - 1023\n",
            "running set - 1024\n",
            "running set - 1025\n",
            "running set - 1026\n",
            "running set - 1027\n",
            "running set - 1028\n",
            "running set - 1029\n",
            "running set - 1030\n",
            "running set - 1031\n",
            "running set - 1032\n",
            "running set - 1033\n",
            "running set - 1034\n",
            "running set - 1035\n",
            "running set - 1036\n",
            "running set - 1037\n",
            "running set - 1038\n",
            "running set - 1039\n",
            "running set - 1040\n",
            "running set - 1041\n",
            "running set - 1042\n",
            "running set - 1043\n",
            "running set - 1044\n",
            "running set - 1045\n",
            "running set - 1046\n",
            "running set - 1047\n",
            "running set - 1048\n",
            "running set - 1049\n",
            "running set - 1050\n",
            "running set - 1051\n",
            "running set - 1052\n",
            "running set - 1053\n",
            "running set - 1054\n",
            "running set - 1055\n",
            "running set - 1056\n",
            "running set - 1057\n",
            "running set - 1058\n",
            "running set - 1059\n",
            "running set - 1060\n",
            "running set - 1061\n",
            "running set - 1062\n",
            "running set - 1063\n",
            "running set - 1064\n",
            "running set - 1065\n",
            "running set - 1066\n",
            "running set - 1067\n",
            "running set - 1068\n",
            "running set - 1069\n",
            "running set - 1070\n",
            "running set - 1071\n",
            "running set - 1072\n",
            "running set - 1073\n",
            "running set - 1074\n",
            "running set - 1075\n",
            "running set - 1076\n",
            "running set - 1077\n",
            "running set - 1078\n",
            "running set - 1079\n",
            "running set - 1080\n",
            "running set - 1081\n",
            "running set - 1082\n",
            "running set - 1083\n",
            "running set - 1084\n",
            "running set - 1085\n",
            "running set - 1086\n",
            "running set - 1087\n",
            "running set - 1088\n",
            "running set - 1089\n",
            "running set - 1090\n",
            "running set - 1091\n",
            "running set - 1092\n",
            "running set - 1093\n",
            "running set - 1094\n",
            "running set - 1095\n",
            "running set - 1096\n",
            "running set - 1097\n",
            "running set - 1098\n",
            "running set - 1099\n",
            "running set - 1100\n",
            "running set - 1101\n",
            "running set - 1102\n",
            "running set - 1103\n",
            "running set - 1104\n",
            "running set - 1105\n",
            "running set - 1106\n",
            "running set - 1107\n",
            "running set - 1108\n",
            "running set - 1109\n",
            "running set - 1110\n",
            "running set - 1111\n",
            "running set - 1112\n",
            "running set - 1113\n",
            "running set - 1114\n",
            "running set - 1115\n",
            "running set - 1116\n",
            "running set - 1117\n",
            "running set - 1118\n",
            "running set - 1119\n",
            "running set - 1120\n",
            "running set - 1121\n",
            "running set - 1122\n",
            "running set - 1123\n",
            "running set - 1124\n",
            "running set - 1125\n",
            "running set - 1126\n",
            "running set - 1127\n",
            "running set - 1128\n",
            "running set - 1129\n",
            "running set - 1130\n",
            "running set - 1131\n",
            "running set - 1132\n",
            "running set - 1133\n",
            "running set - 1134\n",
            "running set - 1135\n",
            "running set - 1136\n",
            "running set - 1137\n",
            "running set - 1138\n",
            "running set - 1139\n",
            "running set - 1140\n",
            "running set - 1141\n",
            "running set - 1142\n",
            "running set - 1143\n",
            "running set - 1144\n",
            "running set - 1145\n",
            "running set - 1146\n",
            "running set - 1147\n",
            "running set - 1148\n",
            "running set - 1149\n",
            "running set - 1150\n",
            "running set - 1151\n",
            "running set - 1152\n",
            "running set - 1153\n",
            "running set - 1154\n",
            "running set - 1155\n",
            "running set - 1156\n",
            "running set - 1157\n",
            "running set - 1158\n",
            "running set - 1159\n",
            "running set - 1160\n",
            "running set - 1161\n",
            "running set - 1162\n",
            "running set - 1163\n",
            "running set - 1164\n",
            "running set - 1165\n",
            "running set - 1166\n",
            "running set - 1167\n",
            "running set - 1168\n",
            "running set - 1169\n",
            "running set - 1170\n",
            "running set - 1171\n",
            "running set - 1172\n",
            "running set - 1173\n",
            "running set - 1174\n",
            "running set - 1175\n",
            "running set - 1176\n",
            "running set - 1177\n",
            "running set - 1178\n",
            "running set - 1179\n",
            "running set - 1180\n",
            "running set - 1181\n",
            "running set - 1182\n",
            "running set - 1183\n",
            "running set - 1184\n",
            "running set - 1185\n",
            "running set - 1186\n",
            "running set - 1187\n",
            "running set - 1188\n",
            "running set - 1189\n",
            "running set - 1190\n",
            "running set - 1191\n"
          ],
          "name": "stdout"
        }
      ]
    },
    {
      "cell_type": "code",
      "metadata": {
        "id": "fZS4q5plfLC-",
        "outputId": "4710ee51-aba6-4e77-d0ae-7886d1451d0a",
        "colab": {
          "base_uri": "https://localhost:8080/"
        }
      },
      "source": [
        "ls /content/drive/My\\ Drive/computer_vision/session14_assignment/planercnn-master/outputs/ | wc -l"
      ],
      "execution_count": null,
      "outputs": [
        {
          "output_type": "stream",
          "text": [
            "7090\n"
          ],
          "name": "stdout"
        }
      ]
    },
    {
      "cell_type": "code",
      "metadata": {
        "id": "Jl4klz3q8Ev3"
      },
      "source": [
        ""
      ],
      "execution_count": null,
      "outputs": []
    }
  ]
}